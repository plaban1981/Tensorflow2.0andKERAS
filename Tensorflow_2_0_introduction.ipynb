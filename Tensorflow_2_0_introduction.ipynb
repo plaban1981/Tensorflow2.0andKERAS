{
  "nbformat": 4,
  "nbformat_minor": 0,
  "metadata": {
    "colab": {
      "name": "Tensorflow_2.0_introduction.ipynb",
      "provenance": [],
      "authorship_tag": "ABX9TyOSKELWZ4RblDI0L8ONSfo3",
      "include_colab_link": true
    },
    "kernelspec": {
      "name": "python3",
      "display_name": "Python 3"
    },
    "accelerator": "GPU"
  },
  "cells": [
    {
      "cell_type": "markdown",
      "metadata": {
        "id": "view-in-github",
        "colab_type": "text"
      },
      "source": [
        "<a href=\"https://colab.research.google.com/github/plaban1981/Tensorflow2.0andKERAS/blob/master/Tensorflow_2_0_introduction.ipynb\" target=\"_parent\"><img src=\"https://colab.research.google.com/assets/colab-badge.svg\" alt=\"Open In Colab\"/></a>"
      ]
    },
    {
      "cell_type": "code",
      "metadata": {
        "id": "-IQfvXa1-ePr",
        "colab_type": "code",
        "outputId": "f361bec2-492d-4f50-ae42-c6ed353a7213",
        "colab": {
          "base_uri": "https://localhost:8080/",
          "height": 80
        }
      },
      "source": [
        "import tensorflow as tf\n",
        "tf.__version__"
      ],
      "execution_count": 1,
      "outputs": [
        {
          "output_type": "display_data",
          "data": {
            "text/html": [
              "<p style=\"color: red;\">\n",
              "The default version of TensorFlow in Colab will soon switch to TensorFlow 2.x.<br>\n",
              "We recommend you <a href=\"https://www.tensorflow.org/guide/migrate\" target=\"_blank\">upgrade</a> now \n",
              "or ensure your notebook will continue to use TensorFlow 1.x via the <code>%tensorflow_version 1.x</code> magic:\n",
              "<a href=\"https://colab.research.google.com/notebooks/tensorflow_version.ipynb\" target=\"_blank\">more info</a>.</p>\n"
            ],
            "text/plain": [
              "<IPython.core.display.HTML object>"
            ]
          },
          "metadata": {
            "tags": []
          }
        },
        {
          "output_type": "execute_result",
          "data": {
            "text/plain": [
              "'1.15.0'"
            ]
          },
          "metadata": {
            "tags": []
          },
          "execution_count": 1
        }
      ]
    },
    {
      "cell_type": "code",
      "metadata": {
        "id": "dOimckFaFD8G",
        "colab_type": "code",
        "outputId": "dc76edea-e8d4-48f8-bd91-45305eb37277",
        "colab": {
          "base_uri": "https://localhost:8080/",
          "height": 306
        }
      },
      "source": [
        "!pip uninstall tensorflow"
      ],
      "execution_count": 2,
      "outputs": [
        {
          "output_type": "stream",
          "text": [
            "Uninstalling tensorflow-1.15.0:\n",
            "  Would remove:\n",
            "    /usr/local/bin/estimator_ckpt_converter\n",
            "    /usr/local/bin/freeze_graph\n",
            "    /usr/local/bin/saved_model_cli\n",
            "    /usr/local/bin/tensorboard\n",
            "    /usr/local/bin/tf_upgrade_v2\n",
            "    /usr/local/bin/tflite_convert\n",
            "    /usr/local/bin/toco\n",
            "    /usr/local/bin/toco_from_protos\n",
            "    /usr/local/lib/python3.6/dist-packages/tensorflow-1.15.0.dist-info/*\n",
            "    /usr/local/lib/python3.6/dist-packages/tensorflow/*\n",
            "    /usr/local/lib/python3.6/dist-packages/tensorflow_core/*\n",
            "Proceed (y/n)? y\n",
            "y\n",
            "y\n",
            "  Successfully uninstalled tensorflow-1.15.0\n"
          ],
          "name": "stdout"
        }
      ]
    },
    {
      "cell_type": "code",
      "metadata": {
        "id": "IxZJHnpiFkRV",
        "colab_type": "code",
        "outputId": "4a154dc2-369f-4dd8-b495-6d770ab9edcb",
        "colab": {
          "base_uri": "https://localhost:8080/",
          "height": 1000
        }
      },
      "source": [
        "!pip install tensorflow"
      ],
      "execution_count": 3,
      "outputs": [
        {
          "output_type": "stream",
          "text": [
            "Collecting tensorflow\n",
            "\u001b[?25l  Downloading https://files.pythonhosted.org/packages/85/d4/c0cd1057b331bc38b65478302114194bd8e1b9c2bbc06e300935c0e93d90/tensorflow-2.1.0-cp36-cp36m-manylinux2010_x86_64.whl (421.8MB)\n",
            "\u001b[K     |████████████████████████████████| 421.8MB 40kB/s \n",
            "\u001b[?25hRequirement already satisfied: termcolor>=1.1.0 in /usr/local/lib/python3.6/dist-packages (from tensorflow) (1.1.0)\n",
            "Requirement already satisfied: six>=1.12.0 in /usr/local/lib/python3.6/dist-packages (from tensorflow) (1.12.0)\n",
            "Requirement already satisfied: opt-einsum>=2.3.2 in /usr/local/lib/python3.6/dist-packages (from tensorflow) (3.1.0)\n",
            "Requirement already satisfied: astor>=0.6.0 in /usr/local/lib/python3.6/dist-packages (from tensorflow) (0.8.1)\n",
            "Requirement already satisfied: wheel>=0.26; python_version >= \"3\" in /usr/local/lib/python3.6/dist-packages (from tensorflow) (0.34.2)\n",
            "Requirement already satisfied: keras-applications>=1.0.8 in /usr/local/lib/python3.6/dist-packages (from tensorflow) (1.0.8)\n",
            "Requirement already satisfied: keras-preprocessing>=1.1.0 in /usr/local/lib/python3.6/dist-packages (from tensorflow) (1.1.0)\n",
            "Collecting tensorboard<2.2.0,>=2.1.0\n",
            "\u001b[?25l  Downloading https://files.pythonhosted.org/packages/40/23/53ffe290341cd0855d595b0a2e7485932f473798af173bbe3a584b99bb06/tensorboard-2.1.0-py3-none-any.whl (3.8MB)\n",
            "\u001b[K     |████████████████████████████████| 3.8MB 44.5MB/s \n",
            "\u001b[?25hRequirement already satisfied: absl-py>=0.7.0 in /usr/local/lib/python3.6/dist-packages (from tensorflow) (0.9.0)\n",
            "Requirement already satisfied: wrapt>=1.11.1 in /usr/local/lib/python3.6/dist-packages (from tensorflow) (1.11.2)\n",
            "Requirement already satisfied: scipy==1.4.1; python_version >= \"3\" in /usr/local/lib/python3.6/dist-packages (from tensorflow) (1.4.1)\n",
            "Requirement already satisfied: grpcio>=1.8.6 in /usr/local/lib/python3.6/dist-packages (from tensorflow) (1.15.0)\n",
            "Requirement already satisfied: google-pasta>=0.1.6 in /usr/local/lib/python3.6/dist-packages (from tensorflow) (0.1.8)\n",
            "Requirement already satisfied: numpy<2.0,>=1.16.0 in /usr/local/lib/python3.6/dist-packages (from tensorflow) (1.17.5)\n",
            "Collecting tensorflow-estimator<2.2.0,>=2.1.0rc0\n",
            "\u001b[?25l  Downloading https://files.pythonhosted.org/packages/18/90/b77c328a1304437ab1310b463e533fa7689f4bfc41549593056d812fab8e/tensorflow_estimator-2.1.0-py2.py3-none-any.whl (448kB)\n",
            "\u001b[K     |████████████████████████████████| 450kB 52.0MB/s \n",
            "\u001b[?25hRequirement already satisfied: protobuf>=3.8.0 in /usr/local/lib/python3.6/dist-packages (from tensorflow) (3.10.0)\n",
            "Requirement already satisfied: gast==0.2.2 in /usr/local/lib/python3.6/dist-packages (from tensorflow) (0.2.2)\n",
            "Requirement already satisfied: h5py in /usr/local/lib/python3.6/dist-packages (from keras-applications>=1.0.8->tensorflow) (2.8.0)\n",
            "Collecting google-auth<2,>=1.6.3\n",
            "\u001b[?25l  Downloading https://files.pythonhosted.org/packages/1c/6d/7aae38a9022f982cf8167775c7fc299f203417b698c27080ce09060bba07/google_auth-1.11.0-py2.py3-none-any.whl (76kB)\n",
            "\u001b[K     |████████████████████████████████| 81kB 8.7MB/s \n",
            "\u001b[?25hRequirement already satisfied: markdown>=2.6.8 in /usr/local/lib/python3.6/dist-packages (from tensorboard<2.2.0,>=2.1.0->tensorflow) (3.1.1)\n",
            "Requirement already satisfied: google-auth-oauthlib<0.5,>=0.4.1 in /usr/local/lib/python3.6/dist-packages (from tensorboard<2.2.0,>=2.1.0->tensorflow) (0.4.1)\n",
            "Requirement already satisfied: werkzeug>=0.11.15 in /usr/local/lib/python3.6/dist-packages (from tensorboard<2.2.0,>=2.1.0->tensorflow) (0.16.1)\n",
            "Requirement already satisfied: setuptools>=41.0.0 in /usr/local/lib/python3.6/dist-packages (from tensorboard<2.2.0,>=2.1.0->tensorflow) (45.1.0)\n",
            "Requirement already satisfied: requests<3,>=2.21.0 in /usr/local/lib/python3.6/dist-packages (from tensorboard<2.2.0,>=2.1.0->tensorflow) (2.21.0)\n",
            "Requirement already satisfied: pyasn1-modules>=0.2.1 in /usr/local/lib/python3.6/dist-packages (from google-auth<2,>=1.6.3->tensorboard<2.2.0,>=2.1.0->tensorflow) (0.2.8)\n",
            "Requirement already satisfied: rsa<4.1,>=3.1.4 in /usr/local/lib/python3.6/dist-packages (from google-auth<2,>=1.6.3->tensorboard<2.2.0,>=2.1.0->tensorflow) (4.0)\n",
            "Requirement already satisfied: cachetools<5.0,>=2.0.0 in /usr/local/lib/python3.6/dist-packages (from google-auth<2,>=1.6.3->tensorboard<2.2.0,>=2.1.0->tensorflow) (4.0.0)\n",
            "Requirement already satisfied: requests-oauthlib>=0.7.0 in /usr/local/lib/python3.6/dist-packages (from google-auth-oauthlib<0.5,>=0.4.1->tensorboard<2.2.0,>=2.1.0->tensorflow) (1.3.0)\n",
            "Requirement already satisfied: certifi>=2017.4.17 in /usr/local/lib/python3.6/dist-packages (from requests<3,>=2.21.0->tensorboard<2.2.0,>=2.1.0->tensorflow) (2019.11.28)\n",
            "Requirement already satisfied: urllib3<1.25,>=1.21.1 in /usr/local/lib/python3.6/dist-packages (from requests<3,>=2.21.0->tensorboard<2.2.0,>=2.1.0->tensorflow) (1.24.3)\n",
            "Requirement already satisfied: chardet<3.1.0,>=3.0.2 in /usr/local/lib/python3.6/dist-packages (from requests<3,>=2.21.0->tensorboard<2.2.0,>=2.1.0->tensorflow) (3.0.4)\n",
            "Requirement already satisfied: idna<2.9,>=2.5 in /usr/local/lib/python3.6/dist-packages (from requests<3,>=2.21.0->tensorboard<2.2.0,>=2.1.0->tensorflow) (2.8)\n",
            "Requirement already satisfied: pyasn1<0.5.0,>=0.4.6 in /usr/local/lib/python3.6/dist-packages (from pyasn1-modules>=0.2.1->google-auth<2,>=1.6.3->tensorboard<2.2.0,>=2.1.0->tensorflow) (0.4.8)\n",
            "Requirement already satisfied: oauthlib>=3.0.0 in /usr/local/lib/python3.6/dist-packages (from requests-oauthlib>=0.7.0->google-auth-oauthlib<0.5,>=0.4.1->tensorboard<2.2.0,>=2.1.0->tensorflow) (3.1.0)\n",
            "\u001b[31mERROR: tensorboard 2.1.0 has requirement grpcio>=1.24.3, but you'll have grpcio 1.15.0 which is incompatible.\u001b[0m\n",
            "\u001b[31mERROR: google-colab 1.0.0 has requirement google-auth~=1.4.0, but you'll have google-auth 1.11.0 which is incompatible.\u001b[0m\n",
            "Installing collected packages: google-auth, tensorboard, tensorflow-estimator, tensorflow\n",
            "  Found existing installation: google-auth 1.4.2\n",
            "    Uninstalling google-auth-1.4.2:\n",
            "      Successfully uninstalled google-auth-1.4.2\n",
            "  Found existing installation: tensorboard 1.15.0\n",
            "    Uninstalling tensorboard-1.15.0:\n",
            "      Successfully uninstalled tensorboard-1.15.0\n",
            "  Found existing installation: tensorflow-estimator 1.15.1\n",
            "    Uninstalling tensorflow-estimator-1.15.1:\n",
            "      Successfully uninstalled tensorflow-estimator-1.15.1\n",
            "Successfully installed google-auth-1.11.0 tensorboard-2.1.0 tensorflow-2.1.0 tensorflow-estimator-2.1.0\n"
          ],
          "name": "stdout"
        },
        {
          "output_type": "display_data",
          "data": {
            "application/vnd.colab-display-data+json": {
              "pip_warning": {
                "packages": [
                  "google",
                  "tensorboard",
                  "tensorflow",
                  "tensorflow_core",
                  "tensorflow_estimator"
                ]
              }
            }
          },
          "metadata": {
            "tags": []
          }
        }
      ]
    },
    {
      "cell_type": "markdown",
      "metadata": {
        "id": "W9OtbGR8LMVN",
        "colab_type": "text"
      },
      "source": [
        "**TensorFlow** is an open source software library for high performance numerical computation. Its flexible architecture allows easy deployment of computation across a variety of platforms (CPUs, GPUs, TPUs), and from desktops to clusters of servers to mobile and edge devices. Originally developed by researchers and engineers from the Google Brain team within Google’s AI organization, it comes with strong support for machine learning and deep learning and the flexible numerical computation core is used across many other scientific domains."
      ]
    },
    {
      "cell_type": "markdown",
      "metadata": {
        "id": "dlGrE-jSLsUV",
        "colab_type": "text"
      },
      "source": [
        "Both Tensorflow 2.0 and Keras have been released for four years (Keras was released in March 2015, and Tensorflow was released in November of the same year). The rapid development of deep learning in the past days, we also know some problems of Tensorflow1.x and Keras:\n",
        "\n",
        "* Using Tensorflow to  program static graphs, which is difficult and inconvenient for programs that are familiar with imperative programming\n",
        "\n",
        "* Tensorflow api is powerful and flexible, but it is more complex, confusing and difficult to use.\n",
        "\n",
        "* Keras api is productive and easy to use, but lacks flexibility for research"
      ]
    },
    {
      "cell_type": "markdown",
      "metadata": {
        "id": "d0XR71p-MAP2",
        "colab_type": "text"
      },
      "source": [
        "## Version Check"
      ]
    },
    {
      "cell_type": "code",
      "metadata": {
        "id": "ci1ST5wOGBVK",
        "colab_type": "code",
        "outputId": "c180d5a7-e414-41f9-988b-e5a5acbe7222",
        "colab": {
          "base_uri": "https://localhost:8080/",
          "height": 51
        }
      },
      "source": [
        "import tensorflow as tf\n",
        "print(\"TensorFlow version: {}\".format(tf.__version__))\n",
        "print(\"Keras version: {}\".format(tf.keras.__version__))"
      ],
      "execution_count": 1,
      "outputs": [
        {
          "output_type": "stream",
          "text": [
            "TensorFlow version: 2.1.0\n",
            "Keras version: 2.2.4-tf\n"
          ],
          "name": "stdout"
        }
      ]
    },
    {
      "cell_type": "markdown",
      "metadata": {
        "id": "ndsvp9w_MJtx",
        "colab_type": "text"
      },
      "source": [
        "Tensorflow2.0 is a combination design of Tensorflow1.x and Keras. Considering user feedback and framework development over the past four years, it largely solves the above problems and will become the future machine learning platform."
      ]
    },
    {
      "cell_type": "markdown",
      "metadata": {
        "id": "WkXMu6jbMNhD",
        "colab_type": "text"
      },
      "source": [
        "#### Tensorflow 2.0 is built on the following core ideas:\n",
        "\n",
        "- The coding is more pythonic, so that users can get the results immediately like they are programming in numpy\n",
        "- Retaining the characteristics of static graphs (for performance, distributed, and production deployment), this makes TensorFlow fast, scalable, and ready for production.\n",
        "- Using Keras as a high-level API for deep learning, making Tensorflow easy to use and efficient\n",
        "- Make the entire framework both high-level features (easy to use, efficient, and not flexible) and low-level features (powerful and scalable, not easy to use, but very flexible)"
      ]
    },
    {
      "cell_type": "markdown",
      "metadata": {
        "id": "CDn7B5LvNN3o",
        "colab_type": "text"
      },
      "source": [
        "####  Eager execution is by default in TensorFlow 2.0 and, it needs no special setup. \n",
        "\n",
        "The following below code can be used to find out whether a CPU or GPU is in use"
      ]
    },
    {
      "cell_type": "code",
      "metadata": {
        "id": "Lkiy9O8CNQPo",
        "colab_type": "code",
        "colab": {
          "base_uri": "https://localhost:8080/",
          "height": 68
        },
        "outputId": "b14dc9ba-2197-4979-de37-affe0c527421"
      },
      "source": [
        "variable = tf.Variable([3, 3])\n",
        "if tf.test.is_gpu_available():\n",
        "    print('GPU')\n",
        "    print('GPU #0?')\n",
        "    print(variable.device.endswith('GPU'))\n",
        "else:\n",
        "    print('CPU')"
      ],
      "execution_count": 3,
      "outputs": [
        {
          "output_type": "stream",
          "text": [
            "GPU\n",
            "GPU #0?\n",
            "False\n"
          ],
          "name": "stdout"
        }
      ]
    },
    {
      "cell_type": "markdown",
      "metadata": {
        "id": "GqchRPzkNoDy",
        "colab_type": "text"
      },
      "source": [
        "## Tensor Constant"
      ]
    },
    {
      "cell_type": "code",
      "metadata": {
        "id": "F6MvnjirNpWz",
        "colab_type": "code",
        "colab": {
          "base_uri": "https://localhost:8080/",
          "height": 34
        },
        "outputId": "ed1a037e-e535-4b40-c6c3-fe8ca1369842"
      },
      "source": [
        "var1 = tf.constant(42)\n",
        "var1"
      ],
      "execution_count": 4,
      "outputs": [
        {
          "output_type": "execute_result",
          "data": {
            "text/plain": [
              "<tf.Tensor: shape=(), dtype=int32, numpy=42>"
            ]
          },
          "metadata": {
            "tags": []
          },
          "execution_count": 4
        }
      ]
    },
    {
      "cell_type": "code",
      "metadata": {
        "id": "9J3KF0mKNzkh",
        "colab_type": "code",
        "colab": {
          "base_uri": "https://localhost:8080/",
          "height": 34
        },
        "outputId": "74d420ee-78cc-408b-cd91-f0ba61723246"
      },
      "source": [
        "var1.numpy()"
      ],
      "execution_count": 5,
      "outputs": [
        {
          "output_type": "execute_result",
          "data": {
            "text/plain": [
              "42"
            ]
          },
          "metadata": {
            "tags": []
          },
          "execution_count": 5
        }
      ]
    },
    {
      "cell_type": "code",
      "metadata": {
        "id": "btYN0jg4Ox_g",
        "colab_type": "code",
        "colab": {
          "base_uri": "https://localhost:8080/",
          "height": 34
        },
        "outputId": "dd1991de-63e8-4196-dc26-192ccede2332"
      },
      "source": [
        "var2 = tf.constant(1,dtype=tf.int64)\n",
        "var2"
      ],
      "execution_count": 6,
      "outputs": [
        {
          "output_type": "execute_result",
          "data": {
            "text/plain": [
              "<tf.Tensor: shape=(), dtype=int64, numpy=1>"
            ]
          },
          "metadata": {
            "tags": []
          },
          "execution_count": 6
        }
      ]
    },
    {
      "cell_type": "code",
      "metadata": {
        "id": "F5VYPVRaPAVC",
        "colab_type": "code",
        "colab": {
          "base_uri": "https://localhost:8080/",
          "height": 68
        },
        "outputId": "74964a21-d2e5-4d9e-c626-006272a97d29"
      },
      "source": [
        "var3 = tf.constant([[2,3],[4,5]])\n",
        "var3"
      ],
      "execution_count": 7,
      "outputs": [
        {
          "output_type": "execute_result",
          "data": {
            "text/plain": [
              "<tf.Tensor: shape=(2, 2), dtype=int32, numpy=\n",
              "array([[2, 3],\n",
              "       [4, 5]], dtype=int32)>"
            ]
          },
          "metadata": {
            "tags": []
          },
          "execution_count": 7
        }
      ]
    },
    {
      "cell_type": "code",
      "metadata": {
        "id": "RoMBKCbwhbDC",
        "colab_type": "code",
        "colab": {
          "base_uri": "https://localhost:8080/",
          "height": 51
        },
        "outputId": "6a711801-e076-4d0a-eb33-efe08d93870b"
      },
      "source": [
        "var3.numpy()"
      ],
      "execution_count": 9,
      "outputs": [
        {
          "output_type": "execute_result",
          "data": {
            "text/plain": [
              "array([[2, 3],\n",
              "       [4, 5]], dtype=int32)"
            ]
          },
          "metadata": {
            "tags": []
          },
          "execution_count": 9
        }
      ]
    },
    {
      "cell_type": "code",
      "metadata": {
        "id": "32jKAIj0hrS6",
        "colab_type": "code",
        "colab": {
          "base_uri": "https://localhost:8080/",
          "height": 51
        },
        "outputId": "30f7cbde-2e11-4d37-b69e-71be85d41040"
      },
      "source": [
        "print('shape:',var3.shape)\n",
        "print(var3.dtype)"
      ],
      "execution_count": 10,
      "outputs": [
        {
          "output_type": "stream",
          "text": [
            "shape: (2, 2)\n",
            "<dtype: 'int32'>\n"
          ],
          "name": "stdout"
        }
      ]
    },
    {
      "cell_type": "markdown",
      "metadata": {
        "id": "27t1lZ6Hh_JL",
        "colab_type": "text"
      },
      "source": [
        "##Commonly used method is to generate constant tf.ones and the tf.zeros like of numpy np.ones & np.zeros"
      ]
    },
    {
      "cell_type": "code",
      "metadata": {
        "id": "P86_zCV7iFMy",
        "colab_type": "code",
        "colab": {
          "base_uri": "https://localhost:8080/",
          "height": 68
        },
        "outputId": "4053dac3-6056-4863-823b-915374871016"
      },
      "source": [
        "print(tf.ones(shape=(2,3)))"
      ],
      "execution_count": 11,
      "outputs": [
        {
          "output_type": "stream",
          "text": [
            "tf.Tensor(\n",
            "[[1. 1. 1.]\n",
            " [1. 1. 1.]], shape=(2, 3), dtype=float32)\n"
          ],
          "name": "stdout"
        }
      ]
    },
    {
      "cell_type": "code",
      "metadata": {
        "id": "oepohVl3inyy",
        "colab_type": "code",
        "colab": {
          "base_uri": "https://localhost:8080/",
          "height": 85
        },
        "outputId": "c89d7523-ff54-4a6a-98a5-8136330213ec"
      },
      "source": [
        "print(tf.ones(shape=(3,2)))"
      ],
      "execution_count": 12,
      "outputs": [
        {
          "output_type": "stream",
          "text": [
            "tf.Tensor(\n",
            "[[1. 1.]\n",
            " [1. 1.]\n",
            " [1. 1.]], shape=(3, 2), dtype=float32)\n"
          ],
          "name": "stdout"
        }
      ]
    },
    {
      "cell_type": "code",
      "metadata": {
        "id": "D_gw3sstjnP-",
        "colab_type": "code",
        "colab": {
          "base_uri": "https://localhost:8080/",
          "height": 68
        },
        "outputId": "c4d21c65-c282-4d07-be88-b535fb4a2462"
      },
      "source": [
        "const1 = tf.constant([[3,4,5],[3,4,5]])\n",
        "const2 = tf.constant([[1,2,5],[3,5,7]])\n",
        "result = tf.add(const1,const2)\n",
        "print(result)"
      ],
      "execution_count": 14,
      "outputs": [
        {
          "output_type": "stream",
          "text": [
            "tf.Tensor(\n",
            "[[ 4  6 10]\n",
            " [ 6  9 12]], shape=(2, 3), dtype=int32)\n"
          ],
          "name": "stdout"
        }
      ]
    },
    {
      "cell_type": "markdown",
      "metadata": {
        "id": "YZd27wIqklBO",
        "colab_type": "text"
      },
      "source": [
        "We have defined two constants and we add one value to the other. As a result, we got a Tensor object with the result of the adding."
      ]
    },
    {
      "cell_type": "markdown",
      "metadata": {
        "id": "EuzaQhX4lIUL",
        "colab_type": "text"
      },
      "source": [
        "##Random constant"
      ]
    },
    {
      "cell_type": "code",
      "metadata": {
        "id": "CNIjAwzWlMgM",
        "colab_type": "code",
        "colab": {
          "base_uri": "https://localhost:8080/",
          "height": 68
        },
        "outputId": "0a78b75d-0ae9-446d-f266-52ca56739dd1"
      },
      "source": [
        "tf.random.normal(shape=(2,2),mean=0,stddev=1.3)"
      ],
      "execution_count": 15,
      "outputs": [
        {
          "output_type": "execute_result",
          "data": {
            "text/plain": [
              "<tf.Tensor: shape=(2, 2), dtype=float32, numpy=\n",
              "array([[1.051677 , 1.4868445],\n",
              "       [0.4935909, 1.2425239]], dtype=float32)>"
            ]
          },
          "metadata": {
            "tags": []
          },
          "execution_count": 15
        }
      ]
    },
    {
      "cell_type": "code",
      "metadata": {
        "id": "PW1jn5hzm9tP",
        "colab_type": "code",
        "colab": {
          "base_uri": "https://localhost:8080/",
          "height": 68
        },
        "outputId": "704ff99d-d2f7-47e9-c902-69454f7e172f"
      },
      "source": [
        "tf.random.uniform(shape=(2,2),minval=0,maxval=10,dtype=tf.int32)"
      ],
      "execution_count": 16,
      "outputs": [
        {
          "output_type": "execute_result",
          "data": {
            "text/plain": [
              "<tf.Tensor: shape=(2, 2), dtype=int32, numpy=\n",
              "array([[6, 8],\n",
              "       [0, 4]], dtype=int32)>"
            ]
          },
          "metadata": {
            "tags": []
          },
          "execution_count": 16
        }
      ]
    },
    {
      "cell_type": "code",
      "metadata": {
        "id": "HKG1j29aGWoU",
        "colab_type": "code",
        "colab": {}
      },
      "source": [
        "tf.random.set_seed(11)\n",
        "random_1 = tf.random.uniform(shape=(2,2),minval=1,maxval=10,dtype=tf.int32)\n",
        "random_2 = tf.random.uniform(shape=(2,2),minval=2,maxval=10,dtype=tf.int32)"
      ],
      "execution_count": 0,
      "outputs": []
    },
    {
      "cell_type": "code",
      "metadata": {
        "id": "aX4xEkXSG9WO",
        "colab_type": "code",
        "outputId": "0559214a-248e-4568-b6c9-7efbf0735cda",
        "colab": {
          "base_uri": "https://localhost:8080/",
          "height": 68
        }
      },
      "source": [
        "random_1"
      ],
      "execution_count": 18,
      "outputs": [
        {
          "output_type": "execute_result",
          "data": {
            "text/plain": [
              "<tf.Tensor: shape=(2, 2), dtype=int32, numpy=\n",
              "array([[2, 4],\n",
              "       [5, 6]], dtype=int32)>"
            ]
          },
          "metadata": {
            "tags": []
          },
          "execution_count": 18
        }
      ]
    },
    {
      "cell_type": "code",
      "metadata": {
        "id": "-8UWt2iIHAf_",
        "colab_type": "code",
        "outputId": "175577a6-23e4-4d9c-ca1e-e396b4eb6a6c",
        "colab": {
          "base_uri": "https://localhost:8080/",
          "height": 68
        }
      },
      "source": [
        "random_2"
      ],
      "execution_count": 19,
      "outputs": [
        {
          "output_type": "execute_result",
          "data": {
            "text/plain": [
              "<tf.Tensor: shape=(2, 2), dtype=int32, numpy=\n",
              "array([[7, 5],\n",
              "       [9, 2]], dtype=int32)>"
            ]
          },
          "metadata": {
            "tags": []
          },
          "execution_count": 19
        }
      ]
    },
    {
      "cell_type": "markdown",
      "metadata": {
        "id": "ew4swkaxnldg",
        "colab_type": "text"
      },
      "source": [
        "## Variables\n",
        "\n",
        "A variable is a special tensor that is used to store variable values ​​and needs to be initialized with some values"
      ]
    },
    {
      "cell_type": "markdown",
      "metadata": {
        "id": "98o5GrPVohLE",
        "colab_type": "text"
      },
      "source": [
        "##Declaring variables"
      ]
    },
    {
      "cell_type": "code",
      "metadata": {
        "id": "bCuAq4OYoQX6",
        "colab_type": "code",
        "colab": {
          "base_uri": "https://localhost:8080/",
          "height": 153
        },
        "outputId": "72ec09e6-eb46-46fc-deae-5bc352e62899"
      },
      "source": [
        "var0 = 24 # python variable\n",
        "var1 = tf.Variable(42) # rank 0 tensor\n",
        "var2 = tf.Variable([ [ [0., 1., 2.], [3., 4., 5.] ], [ [6., 7., 8.], [9., 10., 11.] ] ]) #rank 3 tensor\n",
        "var0, var1, var2"
      ],
      "execution_count": 20,
      "outputs": [
        {
          "output_type": "execute_result",
          "data": {
            "text/plain": [
              "(24,\n",
              " <tf.Variable 'Variable:0' shape=() dtype=int32, numpy=42>,\n",
              " <tf.Variable 'Variable:0' shape=(2, 2, 3) dtype=float32, numpy=\n",
              " array([[[ 0.,  1.,  2.],\n",
              "         [ 3.,  4.,  5.]],\n",
              " \n",
              "        [[ 6.,  7.,  8.],\n",
              "         [ 9., 10., 11.]]], dtype=float32)>)"
            ]
          },
          "metadata": {
            "tags": []
          },
          "execution_count": 20
        }
      ]
    },
    {
      "cell_type": "markdown",
      "metadata": {
        "id": "qyEBCNGFpruV",
        "colab_type": "text"
      },
      "source": [
        "* TensorFlow will infer the datatype, defaulting to tf.float32 for floats and tf.int32 for integers"
      ]
    },
    {
      "cell_type": "markdown",
      "metadata": {
        "id": "eh3H369fqGfX",
        "colab_type": "text"
      },
      "source": [
        "##The datatype can be explicitly specified"
      ]
    },
    {
      "cell_type": "code",
      "metadata": {
        "id": "oyPAINzRptJN",
        "colab_type": "code",
        "colab": {
          "base_uri": "https://localhost:8080/",
          "height": 34
        },
        "outputId": "ae5a728e-e1df-4102-abe5-5f1db6d8d0e2"
      },
      "source": [
        "float_var64 = tf.Variable(89, dtype = tf.float64)\n",
        "float_var64.dtype"
      ],
      "execution_count": 21,
      "outputs": [
        {
          "output_type": "execute_result",
          "data": {
            "text/plain": [
              "tf.float64"
            ]
          },
          "metadata": {
            "tags": []
          },
          "execution_count": 21
        }
      ]
    },
    {
      "cell_type": "code",
      "metadata": {
        "id": "SAIoaWbIqR37",
        "colab_type": "code",
        "colab": {
          "base_uri": "https://localhost:8080/",
          "height": 34
        },
        "outputId": "45fe7ee4-15ef-4896-e2a1-4e519fe07a50"
      },
      "source": [
        "float_var64.numpy()"
      ],
      "execution_count": 22,
      "outputs": [
        {
          "output_type": "execute_result",
          "data": {
            "text/plain": [
              "89.0"
            ]
          },
          "metadata": {
            "tags": []
          },
          "execution_count": 22
        }
      ]
    },
    {
      "cell_type": "markdown",
      "metadata": {
        "id": "Li2_rk--q-ba",
        "colab_type": "text"
      },
      "source": [
        "TensorFlow has a large number of built-in datatypes.\n",
        "\n",
        "- tf.float16: 16-bit half-precision floating-point.\n",
        "- tf.float32: 32-bit single-precision floating-point.\n",
        "-tf.float64: 64-bit double-precision floating-point.\n",
        "-tf.bfloat16: 16-bit truncated floating-point.\n",
        "-tf.complex64: 64-bit single-precision complex.\n",
        "-tf.complex128: 128-bit double-precision complex.\n",
        "-tf.int8: 8-bit signed integer.\n",
        "-tf.uint8: 8-bit unsigned integer.\n",
        "-tf.uint16: 16-bit unsigned integer.\n",
        "-tf.uint32: 32-bit unsigned integer.\n",
        "-tf.uint64: 64-bit unsigned integer.\n",
        "-tf.int16: 16-bit signed integer.\n",
        "-tf.int32: 32-bit signed integer.\n",
        "-tf.int64: 64-bit signed integer.\n",
        "-tf.bool: Boolean.\n",
        "-tf.string: String.\n",
        "-tf.qint8: Quantized 8-bit signed integer.\n",
        "-tf.quint8: Quantized 8-bit unsigned integer.\n",
        "-tf.qint16: Quantized 16-bit signed integer.\n",
        "-tf.quint16: Quantized 16-bit unsigned integer.\n",
        "-tf.qint32: Quantized 32-bit signed integer.\n",
        "-tf.resource: Handle to a mutable resource.\n",
        "-tf.variant: Values of arbitrary types."
      ]
    },
    {
      "cell_type": "markdown",
      "metadata": {
        "id": "QcqZ2U-Yrl1S",
        "colab_type": "text"
      },
      "source": [
        "##To reassign a variable, use var.assign()"
      ]
    },
    {
      "cell_type": "code",
      "metadata": {
        "id": "04OUkIMJrg-C",
        "colab_type": "code",
        "colab": {
          "base_uri": "https://localhost:8080/",
          "height": 34
        },
        "outputId": "7c832d5e-04a6-419e-90f7-23b4a967b624"
      },
      "source": [
        "var_reassign = tf.Variable(89.0)\n",
        "var_reassign"
      ],
      "execution_count": 23,
      "outputs": [
        {
          "output_type": "execute_result",
          "data": {
            "text/plain": [
              "<tf.Variable 'Variable:0' shape=() dtype=float32, numpy=89.0>"
            ]
          },
          "metadata": {
            "tags": []
          },
          "execution_count": 23
        }
      ]
    },
    {
      "cell_type": "code",
      "metadata": {
        "id": "0nsSGkN9sIkN",
        "colab_type": "code",
        "colab": {
          "base_uri": "https://localhost:8080/",
          "height": 34
        },
        "outputId": "ac396069-3b53-42ca-d3f8-7340443beb8a"
      },
      "source": [
        "var_reassign.assign(98.0)\n",
        "var_reassign"
      ],
      "execution_count": 24,
      "outputs": [
        {
          "output_type": "execute_result",
          "data": {
            "text/plain": [
              "<tf.Variable 'Variable:0' shape=() dtype=float32, numpy=98.0>"
            ]
          },
          "metadata": {
            "tags": []
          },
          "execution_count": 24
        }
      ]
    },
    {
      "cell_type": "code",
      "metadata": {
        "id": "CmbJPv11u44r",
        "colab_type": "code",
        "colab": {
          "base_uri": "https://localhost:8080/",
          "height": 68
        },
        "outputId": "74e633b4-ea26-41a7-dfdb-e003e8342c65"
      },
      "source": [
        "initial_value = tf.random.normal(shape=(2,2))\n",
        "a = tf.Variable(initial_value)\n",
        "print(a)"
      ],
      "execution_count": 25,
      "outputs": [
        {
          "output_type": "stream",
          "text": [
            "<tf.Variable 'Variable:0' shape=(2, 2) dtype=float32, numpy=\n",
            "array([[0.8089824 , 1.1437266 ],\n",
            "       [0.3796853 , 0.95578766]], dtype=float32)>\n"
          ],
          "name": "stdout"
        }
      ]
    },
    {
      "cell_type": "markdown",
      "metadata": {
        "id": "glObt92OvRN6",
        "colab_type": "text"
      },
      "source": [
        "We can assign \"=\" with assign (value), or assign_add (value) with \"+ =\", or assign_sub (value) with \"-=\""
      ]
    },
    {
      "cell_type": "code",
      "metadata": {
        "id": "u5Cvvr46vSlF",
        "colab_type": "code",
        "colab": {
          "base_uri": "https://localhost:8080/",
          "height": 68
        },
        "outputId": "c0e71d46-5b62-4d03-c71d-b1ab81b59432"
      },
      "source": [
        "new_value = tf.random.normal(shape=(2,2))\n",
        "a.assign(new_value)\n",
        "a"
      ],
      "execution_count": 26,
      "outputs": [
        {
          "output_type": "execute_result",
          "data": {
            "text/plain": [
              "<tf.Variable 'Variable:0' shape=(2, 2) dtype=float32, numpy=\n",
              "array([[ 1.158006  , -0.25985676],\n",
              "       [-0.59844977, -0.5830384 ]], dtype=float32)>"
            ]
          },
          "metadata": {
            "tags": []
          },
          "execution_count": 26
        }
      ]
    },
    {
      "cell_type": "code",
      "metadata": {
        "id": "MZbk0vXMvmA8",
        "colab_type": "code",
        "colab": {}
      },
      "source": [
        "for i in range(2):\n",
        "    for j in range(2):\n",
        "        assert a[i, j] == new_value[i, j]"
      ],
      "execution_count": 0,
      "outputs": []
    },
    {
      "cell_type": "code",
      "metadata": {
        "id": "fl-u0v8vwoPI",
        "colab_type": "code",
        "colab": {}
      },
      "source": [
        "added_value = tf.random.normal(shape=(2,2))\n",
        "a.assign_add(added_value)\n",
        "for i in range(2):\n",
        "    for j in range(2):\n",
        "        assert a[i,j] == new_value[i,j] + added_value[i,j]"
      ],
      "execution_count": 0,
      "outputs": []
    },
    {
      "cell_type": "code",
      "metadata": {
        "id": "LlGYAYmayOE1",
        "colab_type": "code",
        "colab": {
          "base_uri": "https://localhost:8080/",
          "height": 68
        },
        "outputId": "9381b21f-0005-441a-c03c-097c27f447ad"
      },
      "source": [
        "a"
      ],
      "execution_count": 29,
      "outputs": [
        {
          "output_type": "execute_result",
          "data": {
            "text/plain": [
              "<tf.Variable 'Variable:0' shape=(2, 2) dtype=float32, numpy=\n",
              "array([[ 0.29949635, -0.00920376],\n",
              "       [-1.4293183 , -1.1614537 ]], dtype=float32)>"
            ]
          },
          "metadata": {
            "tags": []
          },
          "execution_count": 29
        }
      ]
    },
    {
      "cell_type": "markdown",
      "metadata": {
        "id": "J14e_bf8yS_Y",
        "colab_type": "text"
      },
      "source": [
        "##Shaping a tensor"
      ]
    },
    {
      "cell_type": "code",
      "metadata": {
        "id": "PblcsC7HyUdL",
        "colab_type": "code",
        "colab": {
          "base_uri": "https://localhost:8080/",
          "height": 136
        },
        "outputId": "7f741f1b-0020-4026-bc16-cc7a0259b6c6"
      },
      "source": [
        "tensor_var = tf.Variable([ [ [10., 11., 12.], [13., 14., 15.] ], [ [16., 17., 18.], [19., 20., 21.] ] ]) # tensor variable\n",
        "print(tensor_var)\n",
        "print(tensor_var.shape)"
      ],
      "execution_count": 31,
      "outputs": [
        {
          "output_type": "stream",
          "text": [
            "<tf.Variable 'Variable:0' shape=(2, 2, 3) dtype=float32, numpy=\n",
            "array([[[10., 11., 12.],\n",
            "        [13., 14., 15.]],\n",
            "\n",
            "       [[16., 17., 18.],\n",
            "        [19., 20., 21.]]], dtype=float32)>\n",
            "(2, 2, 3)\n"
          ],
          "name": "stdout"
        }
      ]
    },
    {
      "cell_type": "markdown",
      "metadata": {
        "id": "9XdyVL_AzUFa",
        "colab_type": "text"
      },
      "source": [
        "## Tensors can be reshaped and retain the same values which is required for constructing Neural networks."
      ]
    },
    {
      "cell_type": "code",
      "metadata": {
        "id": "FVczRiBszVKT",
        "colab_type": "code",
        "colab": {
          "base_uri": "https://localhost:8080/",
          "height": 68
        },
        "outputId": "586a0c4d-471d-4f16-c1d6-c43bb7254b71"
      },
      "source": [
        "tensor1 = tf.reshape(tensor_var,[2,6]) # 2 rows 6 cols\n",
        "#tensor2 = tf.reshape(tensor,[1,12]) # 1 rows 12 cols\n",
        "tensor1"
      ],
      "execution_count": 32,
      "outputs": [
        {
          "output_type": "execute_result",
          "data": {
            "text/plain": [
              "<tf.Tensor: shape=(2, 6), dtype=float32, numpy=\n",
              "array([[10., 11., 12., 13., 14., 15.],\n",
              "       [16., 17., 18., 19., 20., 21.]], dtype=float32)>"
            ]
          },
          "metadata": {
            "tags": []
          },
          "execution_count": 32
        }
      ]
    },
    {
      "cell_type": "code",
      "metadata": {
        "id": "Cihmb0C_zicq",
        "colab_type": "code",
        "colab": {
          "base_uri": "https://localhost:8080/",
          "height": 68
        },
        "outputId": "5ddcde56-6f79-4389-e667-d326443920cc"
      },
      "source": [
        "tensor2 = tf.reshape(tensor_var,[1,12]) # 1 row 12 columns\n",
        "tensor2"
      ],
      "execution_count": 34,
      "outputs": [
        {
          "output_type": "execute_result",
          "data": {
            "text/plain": [
              "<tf.Tensor: shape=(1, 12), dtype=float32, numpy=\n",
              "array([[10., 11., 12., 13., 14., 15., 16., 17., 18., 19., 20., 21.]],\n",
              "      dtype=float32)>"
            ]
          },
          "metadata": {
            "tags": []
          },
          "execution_count": 34
        }
      ]
    },
    {
      "cell_type": "markdown",
      "metadata": {
        "id": "UKwbw_INzv9L",
        "colab_type": "text"
      },
      "source": [
        "##Rank of a tensor"
      ]
    },
    {
      "cell_type": "markdown",
      "metadata": {
        "id": "MMxcqvvYz1Bk",
        "colab_type": "text"
      },
      "source": [
        "The rank of a tensor is defined as the number of dimensions, which is the number of indices that are required to specify any particular element of that tensor."
      ]
    },
    {
      "cell_type": "code",
      "metadata": {
        "id": "BVV9KQIHzw_O",
        "colab_type": "code",
        "colab": {
          "base_uri": "https://localhost:8080/",
          "height": 34
        },
        "outputId": "d57cbba2-f65e-4e06-b548-219ad10429a6"
      },
      "source": [
        "tf.rank(tensor_var)"
      ],
      "execution_count": 35,
      "outputs": [
        {
          "output_type": "execute_result",
          "data": {
            "text/plain": [
              "<tf.Tensor: shape=(), dtype=int32, numpy=3>"
            ]
          },
          "metadata": {
            "tags": []
          },
          "execution_count": 35
        }
      ]
    },
    {
      "cell_type": "markdown",
      "metadata": {
        "id": "4mI7IEAn0ANo",
        "colab_type": "text"
      },
      "source": [
        "(the shape is () because the output here is a scalar value)"
      ]
    },
    {
      "cell_type": "markdown",
      "metadata": {
        "id": "G_wRGvoz0j-T",
        "colab_type": "text"
      },
      "source": [
        "##Specifying an element of a tensor"
      ]
    },
    {
      "cell_type": "code",
      "metadata": {
        "id": "d6PwmS5E0B9k",
        "colab_type": "code",
        "colab": {
          "base_uri": "https://localhost:8080/",
          "height": 34
        },
        "outputId": "c093338e-80ac-45f5-b0c0-203eac10f2ff"
      },
      "source": [
        "tensor3 = tensor_var[1, 0, 2] # slice 1, row 0, column 2\n",
        "tensor3"
      ],
      "execution_count": 36,
      "outputs": [
        {
          "output_type": "execute_result",
          "data": {
            "text/plain": [
              "<tf.Tensor: shape=(), dtype=float32, numpy=18.0>"
            ]
          },
          "metadata": {
            "tags": []
          },
          "execution_count": 36
        }
      ]
    },
    {
      "cell_type": "markdown",
      "metadata": {
        "id": "7A6ohNEc0_QU",
        "colab_type": "text"
      },
      "source": [
        "##Casting a tensor to a NumPy variable"
      ]
    },
    {
      "cell_type": "code",
      "metadata": {
        "id": "CY8E3D5x1ARG",
        "colab_type": "code",
        "colab": {
          "base_uri": "https://localhost:8080/",
          "height": 102
        },
        "outputId": "a9c2bd76-e014-4ff5-c59f-66fad33ad83d"
      },
      "source": [
        "print(tensor_var.numpy())"
      ],
      "execution_count": 37,
      "outputs": [
        {
          "output_type": "stream",
          "text": [
            "[[[10. 11. 12.]\n",
            "  [13. 14. 15.]]\n",
            "\n",
            " [[16. 17. 18.]\n",
            "  [19. 20. 21.]]]\n"
          ],
          "name": "stdout"
        }
      ]
    },
    {
      "cell_type": "code",
      "metadata": {
        "id": "CERyZCcu1IMW",
        "colab_type": "code",
        "colab": {
          "base_uri": "https://localhost:8080/",
          "height": 34
        },
        "outputId": "36d07ca7-d713-4fc1-b396-78bd7e1b72f4"
      },
      "source": [
        "print(tensor_var[1, 0, 2].numpy())"
      ],
      "execution_count": 38,
      "outputs": [
        {
          "output_type": "stream",
          "text": [
            "18.0\n"
          ],
          "name": "stdout"
        }
      ]
    },
    {
      "cell_type": "markdown",
      "metadata": {
        "id": "0DonsARZ2Fh5",
        "colab_type": "text"
      },
      "source": [
        "## Finding the size or length of a tensor"
      ]
    },
    {
      "cell_type": "code",
      "metadata": {
        "id": "1TZiMOFH2Gmg",
        "colab_type": "code",
        "colab": {
          "base_uri": "https://localhost:8080/",
          "height": 34
        },
        "outputId": "2c417a27-8417-4205-f33b-016cead68367"
      },
      "source": [
        "tensor_size = tf.size(input=tensor_var).numpy()\n",
        "tensor_size"
      ],
      "execution_count": 39,
      "outputs": [
        {
          "output_type": "execute_result",
          "data": {
            "text/plain": [
              "12"
            ]
          },
          "metadata": {
            "tags": []
          },
          "execution_count": 39
        }
      ]
    },
    {
      "cell_type": "markdown",
      "metadata": {
        "id": "WnUfEXMk2Nwg",
        "colab_type": "text"
      },
      "source": [
        "## Data Type of Tensor\n"
      ]
    },
    {
      "cell_type": "code",
      "metadata": {
        "id": "8UXHdoWE2QkR",
        "colab_type": "code",
        "colab": {
          "base_uri": "https://localhost:8080/",
          "height": 34
        },
        "outputId": "e8f52b5c-38b4-4270-93da-9009291948de"
      },
      "source": [
        "tensor3.dtype"
      ],
      "execution_count": 40,
      "outputs": [
        {
          "output_type": "execute_result",
          "data": {
            "text/plain": [
              "tf.float32"
            ]
          },
          "metadata": {
            "tags": []
          },
          "execution_count": 40
        }
      ]
    },
    {
      "cell_type": "markdown",
      "metadata": {
        "id": "M0jz4R2O2a55",
        "colab_type": "text"
      },
      "source": [
        "##Tensorflow mathematical operations"
      ]
    },
    {
      "cell_type": "markdown",
      "metadata": {
        "id": "hnwMvFdh2m_l",
        "colab_type": "text"
      },
      "source": [
        "Can be used as numpy for artificial operations. Tensorflow can not execute these operations on the GPU or TPU."
      ]
    },
    {
      "cell_type": "code",
      "metadata": {
        "id": "Ff4FnGXe2cId",
        "colab_type": "code",
        "colab": {
          "base_uri": "https://localhost:8080/",
          "height": 272
        },
        "outputId": "a77d9eb1-74fc-466f-e9a2-c4a2705913f2"
      },
      "source": [
        "a = tf.random.normal(shape=(2,2))\n",
        "b = tf.random.normal(shape=(2,2))\n",
        "c = a + b\n",
        "d = tf.square(c)\n",
        "e = tf.exp(c)\n",
        "print(a)\n",
        "print(b)\n",
        "print(c)\n",
        "print(d)\n",
        "print(e)"
      ],
      "execution_count": 41,
      "outputs": [
        {
          "output_type": "stream",
          "text": [
            "tf.Tensor(\n",
            "[[ 1.6126053  -0.12196143]\n",
            " [ 0.9344708  -0.43732217]], shape=(2, 2), dtype=float32)\n",
            "tf.Tensor(\n",
            "[[-0.2842556  -0.4905156 ]\n",
            " [ 0.7645078   0.41764784]], shape=(2, 2), dtype=float32)\n",
            "tf.Tensor(\n",
            "[[ 1.3283497  -0.612477  ]\n",
            " [ 1.6989785  -0.01967433]], shape=(2, 2), dtype=float32)\n",
            "tf.Tensor(\n",
            "[[1.7645129e+00 3.7512809e-01]\n",
            " [2.8865280e+00 3.8707929e-04]], shape=(2, 2), dtype=float32)\n",
            "tf.Tensor(\n",
            "[[3.774809  0.5420067]\n",
            " [5.468359  0.9805179]], shape=(2, 2), dtype=float32)\n"
          ],
          "name": "stdout"
        }
      ]
    },
    {
      "cell_type": "markdown",
      "metadata": {
        "id": "m7EgMQZ-4RNo",
        "colab_type": "text"
      },
      "source": [
        "## Performing element-wise primitive tensor operations"
      ]
    },
    {
      "cell_type": "code",
      "metadata": {
        "id": "Gt-pfd3W4Scm",
        "colab_type": "code",
        "colab": {
          "base_uri": "https://localhost:8080/",
          "height": 119
        },
        "outputId": "1a6ca0a2-f2e4-4aa8-f4d0-4046472bbdc6"
      },
      "source": [
        "tensor_var * tensor_var"
      ],
      "execution_count": 42,
      "outputs": [
        {
          "output_type": "execute_result",
          "data": {
            "text/plain": [
              "<tf.Tensor: shape=(2, 2, 3), dtype=float32, numpy=\n",
              "array([[[100., 121., 144.],\n",
              "        [169., 196., 225.]],\n",
              "\n",
              "       [[256., 289., 324.],\n",
              "        [361., 400., 441.]]], dtype=float32)>"
            ]
          },
          "metadata": {
            "tags": []
          },
          "execution_count": 42
        }
      ]
    },
    {
      "cell_type": "markdown",
      "metadata": {
        "id": "4trXZcFD4kU0",
        "colab_type": "text"
      },
      "source": [
        "## Broadcasting in Tensorflow\n",
        "Element-wise tensor operations support broadcasting in the same way that NumPy arrays do.\n",
        "\n",
        "The simplest example is multiplication of a tensor by a scalar value."
      ]
    },
    {
      "cell_type": "code",
      "metadata": {
        "id": "2gKflJ1_4o5J",
        "colab_type": "code",
        "colab": {
          "base_uri": "https://localhost:8080/",
          "height": 119
        },
        "outputId": "05a96d08-f280-4477-d50f-854afe58e660"
      },
      "source": [
        "tensor4 = tensor_var *4\n",
        "print(tensor4)"
      ],
      "execution_count": 44,
      "outputs": [
        {
          "output_type": "stream",
          "text": [
            "tf.Tensor(\n",
            "[[[40. 44. 48.]\n",
            "  [52. 56. 60.]]\n",
            "\n",
            " [[64. 68. 72.]\n",
            "  [76. 80. 84.]]], shape=(2, 2, 3), dtype=float32)\n"
          ],
          "name": "stdout"
        }
      ]
    },
    {
      "cell_type": "markdown",
      "metadata": {
        "id": "o9dfJhQt5U4J",
        "colab_type": "text"
      },
      "source": [
        "##Transpose Matrix multiplication"
      ]
    },
    {
      "cell_type": "code",
      "metadata": {
        "id": "dPetb40z5WEm",
        "colab_type": "code",
        "colab": {
          "base_uri": "https://localhost:8080/",
          "height": 34
        },
        "outputId": "aa42b840-ba6e-4f3c-97a4-318502545640"
      },
      "source": [
        "matrix_u = tf.constant([[6,7,6]])\n",
        "matrix_v = tf.constant([[3,4,3]])\n",
        "tf.matmul(matrix_u, tf.transpose(a=matrix_v))"
      ],
      "execution_count": 45,
      "outputs": [
        {
          "output_type": "execute_result",
          "data": {
            "text/plain": [
              "<tf.Tensor: shape=(1, 1), dtype=int32, numpy=array([[64]], dtype=int32)>"
            ]
          },
          "metadata": {
            "tags": []
          },
          "execution_count": 45
        }
      ]
    },
    {
      "cell_type": "markdown",
      "metadata": {
        "id": "3kk81mPI5_-0",
        "colab_type": "text"
      },
      "source": [
        "## Casting a tensor to another datatype"
      ]
    },
    {
      "cell_type": "code",
      "metadata": {
        "id": "zpZbwLrV6BZA",
        "colab_type": "code",
        "colab": {
          "base_uri": "https://localhost:8080/",
          "height": 68
        },
        "outputId": "4b4551bc-95b4-4125-bf5b-7c37bd920b52"
      },
      "source": [
        "i = tf.cast(tensor1, dtype=tf.int32)\n",
        "i"
      ],
      "execution_count": 46,
      "outputs": [
        {
          "output_type": "execute_result",
          "data": {
            "text/plain": [
              "<tf.Tensor: shape=(2, 6), dtype=int32, numpy=\n",
              "array([[10, 11, 12, 13, 14, 15],\n",
              "       [16, 17, 18, 19, 20, 21]], dtype=int32)>"
            ]
          },
          "metadata": {
            "tags": []
          },
          "execution_count": 46
        }
      ]
    },
    {
      "cell_type": "markdown",
      "metadata": {
        "id": "VuWloXOw6J5V",
        "colab_type": "text"
      },
      "source": [
        "## Casting with truncation"
      ]
    },
    {
      "cell_type": "code",
      "metadata": {
        "id": "LzxabbvZ6K9x",
        "colab_type": "code",
        "colab": {
          "base_uri": "https://localhost:8080/",
          "height": 34
        },
        "outputId": "163d658d-2c59-4912-cc8c-60be4b07d37d"
      },
      "source": [
        "j = tf.cast(tf.constant(4.9), dtype=tf.int32)\n",
        "j"
      ],
      "execution_count": 47,
      "outputs": [
        {
          "output_type": "execute_result",
          "data": {
            "text/plain": [
              "<tf.Tensor: shape=(), dtype=int32, numpy=4>"
            ]
          },
          "metadata": {
            "tags": []
          },
          "execution_count": 47
        }
      ]
    },
    {
      "cell_type": "markdown",
      "metadata": {
        "id": "V1kGhz9n6dfT",
        "colab_type": "text"
      },
      "source": [
        "##Ragged tensors"
      ]
    },
    {
      "cell_type": "markdown",
      "metadata": {
        "id": "ZcrgEe2A7V5b",
        "colab_type": "text"
      },
      "source": [
        "A ragged tensor is a tensor having one or more ragged dimensions. Ragged dimensions are dimensions that have slices having various lengths.There are a variety of methods for the declaration of ragged arrays, the simplest way is declaring a constant ragged array."
      ]
    },
    {
      "cell_type": "code",
      "metadata": {
        "id": "mRCGbaFG6ezK",
        "colab_type": "code",
        "colab": {
          "base_uri": "https://localhost:8080/",
          "height": 119
        },
        "outputId": "a79e1e17-7ed2-4f91-b0a6-055cd79bee5f"
      },
      "source": [
        "ragged =tf.ragged.constant([[9, 7, 4, 3], [], [11, 12, 8], [3], [7,8]])\n",
        "print(ragged)\n",
        "print(ragged[0,:])\n",
        "print(ragged[1,:])\n",
        "print(ragged[2,:])\n",
        "print(ragged[3,:])\n",
        "print(ragged[4,:])"
      ],
      "execution_count": 48,
      "outputs": [
        {
          "output_type": "stream",
          "text": [
            "<tf.RaggedTensor [[9, 7, 4, 3], [], [11, 12, 8], [3], [7, 8]]>\n",
            "tf.Tensor([9 7 4 3], shape=(4,), dtype=int32)\n",
            "tf.Tensor([], shape=(0,), dtype=int32)\n",
            "tf.Tensor([11 12  8], shape=(3,), dtype=int32)\n",
            "tf.Tensor([3], shape=(1,), dtype=int32)\n",
            "tf.Tensor([7 8], shape=(2,), dtype=int32)\n"
          ],
          "name": "stdout"
        }
      ]
    },
    {
      "cell_type": "code",
      "metadata": {
        "id": "_0ZoP6Y97fhM",
        "colab_type": "code",
        "colab": {
          "base_uri": "https://localhost:8080/",
          "height": 34
        },
        "outputId": "dfca0abd-7044-48af-e19a-bc7006e95301"
      },
      "source": [
        "ragged.shape"
      ],
      "execution_count": 49,
      "outputs": [
        {
          "output_type": "execute_result",
          "data": {
            "text/plain": [
              "TensorShape([5, None])"
            ]
          },
          "metadata": {
            "tags": []
          },
          "execution_count": 49
        }
      ]
    },
    {
      "cell_type": "markdown",
      "metadata": {
        "id": "BufpGijy7pOQ",
        "colab_type": "text"
      },
      "source": [
        "## Squared difference of tensors"
      ]
    },
    {
      "cell_type": "code",
      "metadata": {
        "id": "sKFEplGT7qk3",
        "colab_type": "code",
        "colab": {
          "base_uri": "https://localhost:8080/",
          "height": 34
        },
        "outputId": "370ea622-333f-4d74-cce4-335f3b47c69d"
      },
      "source": [
        "varx = [4,5,6,1,2]\n",
        "vary = 8\n",
        "varz = tf.math.squared_difference(varx,vary)\n",
        "varz"
      ],
      "execution_count": 50,
      "outputs": [
        {
          "output_type": "execute_result",
          "data": {
            "text/plain": [
              "<tf.Tensor: shape=(5,), dtype=int32, numpy=array([16,  9,  4, 49, 36], dtype=int32)>"
            ]
          },
          "metadata": {
            "tags": []
          },
          "execution_count": 50
        }
      ]
    },
    {
      "cell_type": "markdown",
      "metadata": {
        "id": "bS6YPn4h758b",
        "colab_type": "text"
      },
      "source": [
        "##Calculate the mean"
      ]
    },
    {
      "cell_type": "code",
      "metadata": {
        "id": "hmg1gIL977KX",
        "colab_type": "code",
        "colab": {}
      },
      "source": [
        ""
      ],
      "execution_count": 0,
      "outputs": []
    },
    {
      "cell_type": "markdown",
      "metadata": {
        "id": "e_x8fnRALSWE",
        "colab_type": "text"
      },
      "source": [
        "##Checkpoint"
      ]
    },
    {
      "cell_type": "code",
      "metadata": {
        "id": "0EB30B-SITpC",
        "colab_type": "code",
        "outputId": "5f0c1313-2a76-48b8-f5af-3fdffd2a825b",
        "colab": {
          "base_uri": "https://localhost:8080/",
          "height": 119
        }
      },
      "source": [
        "import os\n",
        "variable1 = tf.Variable([[5,6,9,3],[14,15,16,18]])\n",
        "checkpoint1 = tf.train.Checkpoint(var=variable1)\n",
        "savepath= checkpoint1.save('/tmp/chkpoiint/')\n",
        "variable1.assign([[0,0,0,0],[0,0,0,0]])\n",
        "print(variable1)\n",
        "checkpoint1.restore(savepath)\n",
        "print(variable1)"
      ],
      "execution_count": 0,
      "outputs": [
        {
          "output_type": "stream",
          "text": [
            "<tf.Variable 'Variable:0' shape=(2, 4) dtype=int32, numpy=\n",
            "array([[0, 0, 0, 0],\n",
            "       [0, 0, 0, 0]], dtype=int32)>\n",
            "<tf.Variable 'Variable:0' shape=(2, 4) dtype=int32, numpy=\n",
            "array([[ 5,  6,  9,  3],\n",
            "       [14, 15, 16, 18]], dtype=int32)>\n"
          ],
          "name": "stdout"
        }
      ]
    },
    {
      "cell_type": "code",
      "metadata": {
        "id": "KIYKkeBfRg5x",
        "colab_type": "code",
        "outputId": "8e2d2f69-2c88-4853-e311-ad8c571c273f",
        "colab": {
          "base_uri": "https://localhost:8080/",
          "height": 34
        }
      },
      "source": [
        "print(savepath)"
      ],
      "execution_count": 0,
      "outputs": [
        {
          "output_type": "stream",
          "text": [
            "/tmp/chkpoiint/-1\n"
          ],
          "name": "stdout"
        }
      ]
    },
    {
      "cell_type": "markdown",
      "metadata": {
        "id": "O8O789dVNgPZ",
        "colab_type": "text"
      },
      "source": [
        "##Gradient - differntial function"
      ]
    },
    {
      "cell_type": "code",
      "metadata": {
        "id": "LRKN8dU_NiSl",
        "colab_type": "code",
        "outputId": "4352e65d-8775-4021-8204-d53efa47e946",
        "colab": {
          "base_uri": "https://localhost:8080/",
          "height": 119
        }
      },
      "source": [
        "a = tf.random.normal(shape=(2,2))\n",
        "b = tf.random.normal(shape=(2,2))\n",
        "print(a)\n",
        "print(b)"
      ],
      "execution_count": 0,
      "outputs": [
        {
          "output_type": "stream",
          "text": [
            "tf.Tensor(\n",
            "[[0.8089824  1.1437266 ]\n",
            " [0.3796853  0.95578766]], shape=(2, 2), dtype=float32)\n",
            "tf.Tensor(\n",
            "[[ 1.158006   -0.25985676]\n",
            " [-0.59844977 -0.5830384 ]], shape=(2, 2), dtype=float32)\n"
          ],
          "name": "stdout"
        }
      ]
    },
    {
      "cell_type": "code",
      "metadata": {
        "id": "ZY-dTmipOIPS",
        "colab_type": "code",
        "outputId": "51a53d33-324d-401e-c0d2-4a17fa9ae322",
        "colab": {
          "base_uri": "https://localhost:8080/",
          "height": 119
        }
      },
      "source": [
        "with tf.GradientTape() as tape:\n",
        "  tape.watch(a)\n",
        "  c= tf.sqrt(tf.square(a) + tf.square(b))\n",
        "  print(c)\n",
        "  dc_da = tape.gradient(c,a)\n",
        "  print(dc_da)"
      ],
      "execution_count": 0,
      "outputs": [
        {
          "output_type": "stream",
          "text": [
            "tf.Tensor(\n",
            "[[1.412597   1.172875  ]\n",
            " [0.70873344 1.1195819 ]], shape=(2, 2), dtype=float32)\n",
            "tf.Tensor(\n",
            "[[0.57269156 0.9751479 ]\n",
            " [0.5357237  0.8537005 ]], shape=(2, 2), dtype=float32)\n"
          ],
          "name": "stdout"
        }
      ]
    },
    {
      "cell_type": "markdown",
      "metadata": {
        "id": "1P2-EBHoNLr9",
        "colab_type": "text"
      },
      "source": [
        "## Keras - High Level API for Tensorflow 2.0"
      ]
    },
    {
      "cell_type": "code",
      "metadata": {
        "id": "_J35bZIfNSAb",
        "colab_type": "code",
        "colab": {}
      },
      "source": [
        ""
      ],
      "execution_count": 0,
      "outputs": []
    }
  ]
}