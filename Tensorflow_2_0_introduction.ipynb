{
  "nbformat": 4,
  "nbformat_minor": 0,
  "metadata": {
    "colab": {
      "name": "Tensorflow_2.0_introduction.ipynb",
      "provenance": [],
      "authorship_tag": "ABX9TyNBC+JeFut8me9Pp5leSPjg",
      "include_colab_link": true
    },
    "kernelspec": {
      "name": "python3",
      "display_name": "Python 3"
    },
    "accelerator": "GPU"
  },
  "cells": [
    {
      "cell_type": "markdown",
      "metadata": {
        "id": "view-in-github",
        "colab_type": "text"
      },
      "source": [
        "<a href=\"https://colab.research.google.com/github/plaban1981/Tensorflow2.0andKERAS/blob/master/Tensorflow_2_0_introduction.ipynb\" target=\"_parent\"><img src=\"https://colab.research.google.com/assets/colab-badge.svg\" alt=\"Open In Colab\"/></a>"
      ]
    },
    {
      "cell_type": "code",
      "metadata": {
        "id": "-IQfvXa1-ePr",
        "colab_type": "code",
        "outputId": "1fa45a8e-dd56-4287-ed93-bc13e243b7de",
        "colab": {
          "base_uri": "https://localhost:8080/",
          "height": 80
        }
      },
      "source": [
        "import tensorflow as tf\n",
        "tf.__version__"
      ],
      "execution_count": 1,
      "outputs": [
        {
          "output_type": "display_data",
          "data": {
            "text/html": [
              "<p style=\"color: red;\">\n",
              "The default version of TensorFlow in Colab will soon switch to TensorFlow 2.x.<br>\n",
              "We recommend you <a href=\"https://www.tensorflow.org/guide/migrate\" target=\"_blank\">upgrade</a> now \n",
              "or ensure your notebook will continue to use TensorFlow 1.x via the <code>%tensorflow_version 1.x</code> magic:\n",
              "<a href=\"https://colab.research.google.com/notebooks/tensorflow_version.ipynb\" target=\"_blank\">more info</a>.</p>\n"
            ],
            "text/plain": [
              "<IPython.core.display.HTML object>"
            ]
          },
          "metadata": {
            "tags": []
          }
        },
        {
          "output_type": "execute_result",
          "data": {
            "text/plain": [
              "'1.15.0'"
            ]
          },
          "metadata": {
            "tags": []
          },
          "execution_count": 1
        }
      ]
    },
    {
      "cell_type": "code",
      "metadata": {
        "id": "dOimckFaFD8G",
        "colab_type": "code",
        "outputId": "f18da539-d236-42bd-c402-afecba597d55",
        "colab": {
          "base_uri": "https://localhost:8080/",
          "height": 272
        }
      },
      "source": [
        "!pip uninstall tensorflow"
      ],
      "execution_count": 2,
      "outputs": [
        {
          "output_type": "stream",
          "text": [
            "Uninstalling tensorflow-1.15.0:\n",
            "  Would remove:\n",
            "    /usr/local/bin/estimator_ckpt_converter\n",
            "    /usr/local/bin/freeze_graph\n",
            "    /usr/local/bin/saved_model_cli\n",
            "    /usr/local/bin/tensorboard\n",
            "    /usr/local/bin/tf_upgrade_v2\n",
            "    /usr/local/bin/tflite_convert\n",
            "    /usr/local/bin/toco\n",
            "    /usr/local/bin/toco_from_protos\n",
            "    /usr/local/lib/python3.6/dist-packages/tensorflow-1.15.0.dist-info/*\n",
            "    /usr/local/lib/python3.6/dist-packages/tensorflow/*\n",
            "    /usr/local/lib/python3.6/dist-packages/tensorflow_core/*\n",
            "Proceed (y/n)? y\n",
            "  Successfully uninstalled tensorflow-1.15.0\n"
          ],
          "name": "stdout"
        }
      ]
    },
    {
      "cell_type": "code",
      "metadata": {
        "id": "IxZJHnpiFkRV",
        "colab_type": "code",
        "outputId": "e7db5556-0b2e-4af0-93f7-d35fc3cdfd8f",
        "colab": {
          "base_uri": "https://localhost:8080/",
          "height": 1000
        }
      },
      "source": [
        "!pip install tensorflow"
      ],
      "execution_count": 3,
      "outputs": [
        {
          "output_type": "stream",
          "text": [
            "Collecting tensorflow\n",
            "\u001b[?25l  Downloading https://files.pythonhosted.org/packages/85/d4/c0cd1057b331bc38b65478302114194bd8e1b9c2bbc06e300935c0e93d90/tensorflow-2.1.0-cp36-cp36m-manylinux2010_x86_64.whl (421.8MB)\n",
            "\u001b[K     |████████████████████████████████| 421.8MB 41kB/s \n",
            "\u001b[?25hRequirement already satisfied: grpcio>=1.8.6 in /usr/local/lib/python3.6/dist-packages (from tensorflow) (1.15.0)\n",
            "Collecting tensorflow-estimator<2.2.0,>=2.1.0rc0\n",
            "\u001b[?25l  Downloading https://files.pythonhosted.org/packages/18/90/b77c328a1304437ab1310b463e533fa7689f4bfc41549593056d812fab8e/tensorflow_estimator-2.1.0-py2.py3-none-any.whl (448kB)\n",
            "\u001b[K     |████████████████████████████████| 450kB 56.1MB/s \n",
            "\u001b[?25hRequirement already satisfied: keras-applications>=1.0.8 in /usr/local/lib/python3.6/dist-packages (from tensorflow) (1.0.8)\n",
            "Requirement already satisfied: protobuf>=3.8.0 in /usr/local/lib/python3.6/dist-packages (from tensorflow) (3.10.0)\n",
            "Requirement already satisfied: wrapt>=1.11.1 in /usr/local/lib/python3.6/dist-packages (from tensorflow) (1.11.2)\n",
            "Requirement already satisfied: opt-einsum>=2.3.2 in /usr/local/lib/python3.6/dist-packages (from tensorflow) (3.1.0)\n",
            "Requirement already satisfied: google-pasta>=0.1.6 in /usr/local/lib/python3.6/dist-packages (from tensorflow) (0.1.8)\n",
            "Requirement already satisfied: keras-preprocessing>=1.1.0 in /usr/local/lib/python3.6/dist-packages (from tensorflow) (1.1.0)\n",
            "Requirement already satisfied: wheel>=0.26; python_version >= \"3\" in /usr/local/lib/python3.6/dist-packages (from tensorflow) (0.34.2)\n",
            "Requirement already satisfied: numpy<2.0,>=1.16.0 in /usr/local/lib/python3.6/dist-packages (from tensorflow) (1.17.5)\n",
            "Requirement already satisfied: six>=1.12.0 in /usr/local/lib/python3.6/dist-packages (from tensorflow) (1.12.0)\n",
            "Requirement already satisfied: gast==0.2.2 in /usr/local/lib/python3.6/dist-packages (from tensorflow) (0.2.2)\n",
            "Requirement already satisfied: astor>=0.6.0 in /usr/local/lib/python3.6/dist-packages (from tensorflow) (0.8.1)\n",
            "Collecting tensorboard<2.2.0,>=2.1.0\n",
            "\u001b[?25l  Downloading https://files.pythonhosted.org/packages/40/23/53ffe290341cd0855d595b0a2e7485932f473798af173bbe3a584b99bb06/tensorboard-2.1.0-py3-none-any.whl (3.8MB)\n",
            "\u001b[K     |████████████████████████████████| 3.8MB 58.6MB/s \n",
            "\u001b[?25hRequirement already satisfied: scipy==1.4.1; python_version >= \"3\" in /usr/local/lib/python3.6/dist-packages (from tensorflow) (1.4.1)\n",
            "Requirement already satisfied: absl-py>=0.7.0 in /usr/local/lib/python3.6/dist-packages (from tensorflow) (0.9.0)\n",
            "Requirement already satisfied: termcolor>=1.1.0 in /usr/local/lib/python3.6/dist-packages (from tensorflow) (1.1.0)\n",
            "Requirement already satisfied: h5py in /usr/local/lib/python3.6/dist-packages (from keras-applications>=1.0.8->tensorflow) (2.8.0)\n",
            "Requirement already satisfied: setuptools in /usr/local/lib/python3.6/dist-packages (from protobuf>=3.8.0->tensorflow) (45.1.0)\n",
            "Requirement already satisfied: requests<3,>=2.21.0 in /usr/local/lib/python3.6/dist-packages (from tensorboard<2.2.0,>=2.1.0->tensorflow) (2.21.0)\n",
            "Requirement already satisfied: markdown>=2.6.8 in /usr/local/lib/python3.6/dist-packages (from tensorboard<2.2.0,>=2.1.0->tensorflow) (3.1.1)\n",
            "Requirement already satisfied: werkzeug>=0.11.15 in /usr/local/lib/python3.6/dist-packages (from tensorboard<2.2.0,>=2.1.0->tensorflow) (0.16.1)\n",
            "Requirement already satisfied: google-auth-oauthlib<0.5,>=0.4.1 in /usr/local/lib/python3.6/dist-packages (from tensorboard<2.2.0,>=2.1.0->tensorflow) (0.4.1)\n",
            "Collecting google-auth<2,>=1.6.3\n",
            "\u001b[?25l  Downloading https://files.pythonhosted.org/packages/1c/6d/7aae38a9022f982cf8167775c7fc299f203417b698c27080ce09060bba07/google_auth-1.11.0-py2.py3-none-any.whl (76kB)\n",
            "\u001b[K     |████████████████████████████████| 81kB 14.3MB/s \n",
            "\u001b[?25hRequirement already satisfied: idna<2.9,>=2.5 in /usr/local/lib/python3.6/dist-packages (from requests<3,>=2.21.0->tensorboard<2.2.0,>=2.1.0->tensorflow) (2.8)\n",
            "Requirement already satisfied: chardet<3.1.0,>=3.0.2 in /usr/local/lib/python3.6/dist-packages (from requests<3,>=2.21.0->tensorboard<2.2.0,>=2.1.0->tensorflow) (3.0.4)\n",
            "Requirement already satisfied: urllib3<1.25,>=1.21.1 in /usr/local/lib/python3.6/dist-packages (from requests<3,>=2.21.0->tensorboard<2.2.0,>=2.1.0->tensorflow) (1.24.3)\n",
            "Requirement already satisfied: certifi>=2017.4.17 in /usr/local/lib/python3.6/dist-packages (from requests<3,>=2.21.0->tensorboard<2.2.0,>=2.1.0->tensorflow) (2019.11.28)\n",
            "Requirement already satisfied: requests-oauthlib>=0.7.0 in /usr/local/lib/python3.6/dist-packages (from google-auth-oauthlib<0.5,>=0.4.1->tensorboard<2.2.0,>=2.1.0->tensorflow) (1.3.0)\n",
            "Requirement already satisfied: pyasn1-modules>=0.2.1 in /usr/local/lib/python3.6/dist-packages (from google-auth<2,>=1.6.3->tensorboard<2.2.0,>=2.1.0->tensorflow) (0.2.8)\n",
            "Requirement already satisfied: rsa<4.1,>=3.1.4 in /usr/local/lib/python3.6/dist-packages (from google-auth<2,>=1.6.3->tensorboard<2.2.0,>=2.1.0->tensorflow) (4.0)\n",
            "Requirement already satisfied: cachetools<5.0,>=2.0.0 in /usr/local/lib/python3.6/dist-packages (from google-auth<2,>=1.6.3->tensorboard<2.2.0,>=2.1.0->tensorflow) (4.0.0)\n",
            "Requirement already satisfied: oauthlib>=3.0.0 in /usr/local/lib/python3.6/dist-packages (from requests-oauthlib>=0.7.0->google-auth-oauthlib<0.5,>=0.4.1->tensorboard<2.2.0,>=2.1.0->tensorflow) (3.1.0)\n",
            "Requirement already satisfied: pyasn1<0.5.0,>=0.4.6 in /usr/local/lib/python3.6/dist-packages (from pyasn1-modules>=0.2.1->google-auth<2,>=1.6.3->tensorboard<2.2.0,>=2.1.0->tensorflow) (0.4.8)\n",
            "\u001b[31mERROR: tensorboard 2.1.0 has requirement grpcio>=1.24.3, but you'll have grpcio 1.15.0 which is incompatible.\u001b[0m\n",
            "\u001b[31mERROR: google-colab 1.0.0 has requirement google-auth~=1.4.0, but you'll have google-auth 1.11.0 which is incompatible.\u001b[0m\n",
            "Installing collected packages: tensorflow-estimator, google-auth, tensorboard, tensorflow\n",
            "  Found existing installation: tensorflow-estimator 1.15.1\n",
            "    Uninstalling tensorflow-estimator-1.15.1:\n",
            "      Successfully uninstalled tensorflow-estimator-1.15.1\n",
            "  Found existing installation: google-auth 1.4.2\n",
            "    Uninstalling google-auth-1.4.2:\n",
            "      Successfully uninstalled google-auth-1.4.2\n",
            "  Found existing installation: tensorboard 1.15.0\n",
            "    Uninstalling tensorboard-1.15.0:\n",
            "      Successfully uninstalled tensorboard-1.15.0\n",
            "Successfully installed google-auth-1.11.0 tensorboard-2.1.0 tensorflow-2.1.0 tensorflow-estimator-2.1.0\n"
          ],
          "name": "stdout"
        },
        {
          "output_type": "display_data",
          "data": {
            "application/vnd.colab-display-data+json": {
              "pip_warning": {
                "packages": [
                  "google",
                  "tensorboard",
                  "tensorflow",
                  "tensorflow_core",
                  "tensorflow_estimator"
                ]
              }
            }
          },
          "metadata": {
            "tags": []
          }
        }
      ]
    },
    {
      "cell_type": "markdown",
      "metadata": {
        "id": "W9OtbGR8LMVN",
        "colab_type": "text"
      },
      "source": [
        "**TensorFlow** is an open source software library for high performance numerical computation. Its flexible architecture allows easy deployment of computation across a variety of platforms (CPUs, GPUs, TPUs), and from desktops to clusters of servers to mobile and edge devices. Originally developed by researchers and engineers from the Google Brain team within Google’s AI organization, it comes with strong support for machine learning and deep learning and the flexible numerical computation core is used across many other scientific domains."
      ]
    },
    {
      "cell_type": "markdown",
      "metadata": {
        "id": "dlGrE-jSLsUV",
        "colab_type": "text"
      },
      "source": [
        "Both Tensorflow 2.0 and Keras have been released for four years (Keras was released in March 2015, and Tensorflow was released in November of the same year). The rapid development of deep learning in the past days, we also know some problems of Tensorflow1.x and Keras:\n",
        "\n",
        "* Using Tensorflow to  program static graphs, which is difficult and inconvenient for programs that are familiar with imperative programming\n",
        "\n",
        "* Tensorflow api is powerful and flexible, but it is more complex, confusing and difficult to use.\n",
        "\n",
        "* Keras api is productive and easy to use, but lacks flexibility for research"
      ]
    },
    {
      "cell_type": "markdown",
      "metadata": {
        "id": "d0XR71p-MAP2",
        "colab_type": "text"
      },
      "source": [
        "## Version Check"
      ]
    },
    {
      "cell_type": "code",
      "metadata": {
        "id": "ci1ST5wOGBVK",
        "colab_type": "code",
        "outputId": "17255ac8-96dc-4c98-f728-1f3f7c0329e0",
        "colab": {
          "base_uri": "https://localhost:8080/",
          "height": 51
        }
      },
      "source": [
        "import tensorflow as tf\n",
        "print(\"TensorFlow version: {}\".format(tf.__version__))\n",
        "print(\"Keras version: {}\".format(tf.keras.__version__))"
      ],
      "execution_count": 1,
      "outputs": [
        {
          "output_type": "stream",
          "text": [
            "TensorFlow version: 2.1.0\n",
            "Keras version: 2.2.4-tf\n"
          ],
          "name": "stdout"
        }
      ]
    },
    {
      "cell_type": "markdown",
      "metadata": {
        "id": "ndsvp9w_MJtx",
        "colab_type": "text"
      },
      "source": [
        "Tensorflow2.0 is a combination design of Tensorflow1.x and Keras. Considering user feedback and framework development over the past four years, it largely solves the above problems and will become the future machine learning platform."
      ]
    },
    {
      "cell_type": "markdown",
      "metadata": {
        "id": "WkXMu6jbMNhD",
        "colab_type": "text"
      },
      "source": [
        "#### Tensorflow 2.0 is built on the following core ideas:\n",
        "\n",
        "- The coding is more pythonic, so that users can get the results immediately like they are programming in numpy\n",
        "- Retaining the characteristics of static graphs (for performance, distributed, and production deployment), this makes TensorFlow fast, scalable, and ready for production.\n",
        "- Using Keras as a high-level API for deep learning, making Tensorflow easy to use and efficient\n",
        "- Make the entire framework both high-level features (easy to use, efficient, and not flexible) and low-level features (powerful and scalable, not easy to use, but very flexible)"
      ]
    },
    {
      "cell_type": "markdown",
      "metadata": {
        "id": "CDn7B5LvNN3o",
        "colab_type": "text"
      },
      "source": [
        "####  Eager execution is by default in TensorFlow 2.0 and, it needs no special setup. \n",
        "\n",
        "The following below code can be used to find out whether a CPU or GPU is in use"
      ]
    },
    {
      "cell_type": "code",
      "metadata": {
        "id": "Lkiy9O8CNQPo",
        "colab_type": "code",
        "colab": {
          "base_uri": "https://localhost:8080/",
          "height": 68
        },
        "outputId": "25850f87-cfac-49e4-978d-9971da95fe8a"
      },
      "source": [
        "variable = tf.Variable([3, 3])\n",
        "if tf.config.list_physical_devices('GPU'):\n",
        "    print('GPU')\n",
        "    print('GPU #0?')\n",
        "    print(variable.device)\n",
        "else:\n",
        "    print('CPU')"
      ],
      "execution_count": 4,
      "outputs": [
        {
          "output_type": "stream",
          "text": [
            "GPU\n",
            "GPU #0?\n",
            "/job:localhost/replica:0/task:0/device:CPU:0\n"
          ],
          "name": "stdout"
        }
      ]
    },
    {
      "cell_type": "markdown",
      "metadata": {
        "id": "GqchRPzkNoDy",
        "colab_type": "text"
      },
      "source": [
        "## Tensor Constant"
      ]
    },
    {
      "cell_type": "code",
      "metadata": {
        "id": "F6MvnjirNpWz",
        "colab_type": "code",
        "colab": {
          "base_uri": "https://localhost:8080/",
          "height": 34
        },
        "outputId": "ea8ea18e-3cda-4227-cbc6-132214f1bac5"
      },
      "source": [
        "var1 = tf.constant(42)\n",
        "var1"
      ],
      "execution_count": 5,
      "outputs": [
        {
          "output_type": "execute_result",
          "data": {
            "text/plain": [
              "<tf.Tensor: shape=(), dtype=int32, numpy=42>"
            ]
          },
          "metadata": {
            "tags": []
          },
          "execution_count": 5
        }
      ]
    },
    {
      "cell_type": "code",
      "metadata": {
        "id": "9J3KF0mKNzkh",
        "colab_type": "code",
        "colab": {
          "base_uri": "https://localhost:8080/",
          "height": 34
        },
        "outputId": "00692d57-6376-4dc9-f069-1ee978581e3b"
      },
      "source": [
        "var1.numpy()"
      ],
      "execution_count": 6,
      "outputs": [
        {
          "output_type": "execute_result",
          "data": {
            "text/plain": [
              "42"
            ]
          },
          "metadata": {
            "tags": []
          },
          "execution_count": 6
        }
      ]
    },
    {
      "cell_type": "code",
      "metadata": {
        "id": "btYN0jg4Ox_g",
        "colab_type": "code",
        "colab": {
          "base_uri": "https://localhost:8080/",
          "height": 34
        },
        "outputId": "70699812-f306-46bc-daac-c7cadfffb1a0"
      },
      "source": [
        "var2 = tf.constant(1,dtype=tf.int64)\n",
        "var2"
      ],
      "execution_count": 7,
      "outputs": [
        {
          "output_type": "execute_result",
          "data": {
            "text/plain": [
              "<tf.Tensor: shape=(), dtype=int64, numpy=1>"
            ]
          },
          "metadata": {
            "tags": []
          },
          "execution_count": 7
        }
      ]
    },
    {
      "cell_type": "code",
      "metadata": {
        "id": "F5VYPVRaPAVC",
        "colab_type": "code",
        "colab": {
          "base_uri": "https://localhost:8080/",
          "height": 68
        },
        "outputId": "445b2cb5-da9f-4bc4-af82-5c7133f9f229"
      },
      "source": [
        "var3 = tf.constant([[2,3],[4,5]])\n",
        "var3"
      ],
      "execution_count": 8,
      "outputs": [
        {
          "output_type": "execute_result",
          "data": {
            "text/plain": [
              "<tf.Tensor: shape=(2, 2), dtype=int32, numpy=\n",
              "array([[2, 3],\n",
              "       [4, 5]], dtype=int32)>"
            ]
          },
          "metadata": {
            "tags": []
          },
          "execution_count": 8
        }
      ]
    },
    {
      "cell_type": "code",
      "metadata": {
        "id": "RoMBKCbwhbDC",
        "colab_type": "code",
        "colab": {
          "base_uri": "https://localhost:8080/",
          "height": 51
        },
        "outputId": "2f7d365b-6d6c-4f81-e445-12b37426d6e3"
      },
      "source": [
        "var3.numpy()"
      ],
      "execution_count": 9,
      "outputs": [
        {
          "output_type": "execute_result",
          "data": {
            "text/plain": [
              "array([[2, 3],\n",
              "       [4, 5]], dtype=int32)"
            ]
          },
          "metadata": {
            "tags": []
          },
          "execution_count": 9
        }
      ]
    },
    {
      "cell_type": "code",
      "metadata": {
        "id": "32jKAIj0hrS6",
        "colab_type": "code",
        "colab": {
          "base_uri": "https://localhost:8080/",
          "height": 51
        },
        "outputId": "57479fd7-b99d-45b1-a9e1-a29f6ffc702a"
      },
      "source": [
        "print('shape:',var3.shape)\n",
        "print(var3.dtype)"
      ],
      "execution_count": 10,
      "outputs": [
        {
          "output_type": "stream",
          "text": [
            "shape: (2, 2)\n",
            "<dtype: 'int32'>\n"
          ],
          "name": "stdout"
        }
      ]
    },
    {
      "cell_type": "markdown",
      "metadata": {
        "id": "27t1lZ6Hh_JL",
        "colab_type": "text"
      },
      "source": [
        "##Commonly used method is to generate constant tf.ones and the tf.zeros like of numpy np.ones & np.zeros"
      ]
    },
    {
      "cell_type": "code",
      "metadata": {
        "id": "P86_zCV7iFMy",
        "colab_type": "code",
        "colab": {
          "base_uri": "https://localhost:8080/",
          "height": 68
        },
        "outputId": "fb1c6e81-3b55-4453-90a6-e5a5f9556580"
      },
      "source": [
        "print(tf.ones(shape=(2,3)))"
      ],
      "execution_count": 11,
      "outputs": [
        {
          "output_type": "stream",
          "text": [
            "tf.Tensor(\n",
            "[[1. 1. 1.]\n",
            " [1. 1. 1.]], shape=(2, 3), dtype=float32)\n"
          ],
          "name": "stdout"
        }
      ]
    },
    {
      "cell_type": "code",
      "metadata": {
        "id": "oepohVl3inyy",
        "colab_type": "code",
        "colab": {
          "base_uri": "https://localhost:8080/",
          "height": 85
        },
        "outputId": "0975c58d-47e7-45d5-8af3-0130f052b2b0"
      },
      "source": [
        "print(tf.ones(shape=(3,2)))"
      ],
      "execution_count": 12,
      "outputs": [
        {
          "output_type": "stream",
          "text": [
            "tf.Tensor(\n",
            "[[1. 1.]\n",
            " [1. 1.]\n",
            " [1. 1.]], shape=(3, 2), dtype=float32)\n"
          ],
          "name": "stdout"
        }
      ]
    },
    {
      "cell_type": "code",
      "metadata": {
        "id": "D_gw3sstjnP-",
        "colab_type": "code",
        "colab": {
          "base_uri": "https://localhost:8080/",
          "height": 68
        },
        "outputId": "c84105eb-a26c-4e7d-83a1-7c26ae23ba2e"
      },
      "source": [
        "const1 = tf.constant([[3,4,5],[3,4,5]])\n",
        "const2 = tf.constant([[1,2,5],[3,5,7]])\n",
        "result = tf.add(const1,const2)\n",
        "print(result)"
      ],
      "execution_count": 13,
      "outputs": [
        {
          "output_type": "stream",
          "text": [
            "tf.Tensor(\n",
            "[[ 4  6 10]\n",
            " [ 6  9 12]], shape=(2, 3), dtype=int32)\n"
          ],
          "name": "stdout"
        }
      ]
    },
    {
      "cell_type": "markdown",
      "metadata": {
        "id": "YZd27wIqklBO",
        "colab_type": "text"
      },
      "source": [
        "We have defined two constants and we add one value to the other. As a result, we got a Tensor object with the result of the adding."
      ]
    },
    {
      "cell_type": "markdown",
      "metadata": {
        "id": "EuzaQhX4lIUL",
        "colab_type": "text"
      },
      "source": [
        "##Random constant"
      ]
    },
    {
      "cell_type": "code",
      "metadata": {
        "id": "CNIjAwzWlMgM",
        "colab_type": "code",
        "colab": {
          "base_uri": "https://localhost:8080/",
          "height": 68
        },
        "outputId": "258536c3-a0c3-4e46-fb90-281ad2a36f55"
      },
      "source": [
        "tf.random.normal(shape=(2,2),mean=0,stddev=1.3)"
      ],
      "execution_count": 14,
      "outputs": [
        {
          "output_type": "execute_result",
          "data": {
            "text/plain": [
              "<tf.Tensor: shape=(2, 2), dtype=float32, numpy=\n",
              "array([[-1.5317391 ,  0.39344198],\n",
              "       [ 1.3063855 ,  0.4878637 ]], dtype=float32)>"
            ]
          },
          "metadata": {
            "tags": []
          },
          "execution_count": 14
        }
      ]
    },
    {
      "cell_type": "code",
      "metadata": {
        "id": "PW1jn5hzm9tP",
        "colab_type": "code",
        "colab": {
          "base_uri": "https://localhost:8080/",
          "height": 68
        },
        "outputId": "62eb6631-a970-4c85-91e2-edcafe55742c"
      },
      "source": [
        "tf.random.uniform(shape=(2,2),minval=0,maxval=10,dtype=tf.int32)"
      ],
      "execution_count": 15,
      "outputs": [
        {
          "output_type": "execute_result",
          "data": {
            "text/plain": [
              "<tf.Tensor: shape=(2, 2), dtype=int32, numpy=\n",
              "array([[2, 1],\n",
              "       [4, 5]], dtype=int32)>"
            ]
          },
          "metadata": {
            "tags": []
          },
          "execution_count": 15
        }
      ]
    },
    {
      "cell_type": "code",
      "metadata": {
        "id": "HKG1j29aGWoU",
        "colab_type": "code",
        "colab": {}
      },
      "source": [
        "tf.random.set_seed(11)\n",
        "random_1 = tf.random.uniform(shape=(2,2),minval=1,maxval=10,dtype=tf.int32)\n",
        "random_2 = tf.random.uniform(shape=(2,2),minval=2,maxval=10,dtype=tf.int32)"
      ],
      "execution_count": 0,
      "outputs": []
    },
    {
      "cell_type": "code",
      "metadata": {
        "id": "aX4xEkXSG9WO",
        "colab_type": "code",
        "outputId": "e8bac330-e489-4196-83b2-d863f6d2a8e0",
        "colab": {
          "base_uri": "https://localhost:8080/",
          "height": 68
        }
      },
      "source": [
        "random_1"
      ],
      "execution_count": 17,
      "outputs": [
        {
          "output_type": "execute_result",
          "data": {
            "text/plain": [
              "<tf.Tensor: shape=(2, 2), dtype=int32, numpy=\n",
              "array([[2, 4],\n",
              "       [5, 6]], dtype=int32)>"
            ]
          },
          "metadata": {
            "tags": []
          },
          "execution_count": 17
        }
      ]
    },
    {
      "cell_type": "code",
      "metadata": {
        "id": "-8UWt2iIHAf_",
        "colab_type": "code",
        "outputId": "9b32b9db-8b64-45c1-84d3-a3779d54e240",
        "colab": {
          "base_uri": "https://localhost:8080/",
          "height": 68
        }
      },
      "source": [
        "random_2"
      ],
      "execution_count": 18,
      "outputs": [
        {
          "output_type": "execute_result",
          "data": {
            "text/plain": [
              "<tf.Tensor: shape=(2, 2), dtype=int32, numpy=\n",
              "array([[7, 5],\n",
              "       [9, 2]], dtype=int32)>"
            ]
          },
          "metadata": {
            "tags": []
          },
          "execution_count": 18
        }
      ]
    },
    {
      "cell_type": "markdown",
      "metadata": {
        "id": "ew4swkaxnldg",
        "colab_type": "text"
      },
      "source": [
        "## Variables\n",
        "\n",
        "A variable is a special tensor that is used to store variable values ​​and needs to be initialized with some values"
      ]
    },
    {
      "cell_type": "markdown",
      "metadata": {
        "id": "98o5GrPVohLE",
        "colab_type": "text"
      },
      "source": [
        "##Declaring variables"
      ]
    },
    {
      "cell_type": "code",
      "metadata": {
        "id": "bCuAq4OYoQX6",
        "colab_type": "code",
        "colab": {
          "base_uri": "https://localhost:8080/",
          "height": 153
        },
        "outputId": "63c6e2c7-54f2-4bc7-dc43-26ed140ab6a5"
      },
      "source": [
        "var0 = 24 # python variable\n",
        "var1 = tf.Variable(42) # rank 0 tensor\n",
        "var2 = tf.Variable([ [ [0., 1., 2.], [3., 4., 5.] ], [ [6., 7., 8.], [9., 10., 11.] ] ]) #rank 3 tensor\n",
        "var0, var1, var2"
      ],
      "execution_count": 19,
      "outputs": [
        {
          "output_type": "execute_result",
          "data": {
            "text/plain": [
              "(24,\n",
              " <tf.Variable 'Variable:0' shape=() dtype=int32, numpy=42>,\n",
              " <tf.Variable 'Variable:0' shape=(2, 2, 3) dtype=float32, numpy=\n",
              " array([[[ 0.,  1.,  2.],\n",
              "         [ 3.,  4.,  5.]],\n",
              " \n",
              "        [[ 6.,  7.,  8.],\n",
              "         [ 9., 10., 11.]]], dtype=float32)>)"
            ]
          },
          "metadata": {
            "tags": []
          },
          "execution_count": 19
        }
      ]
    },
    {
      "cell_type": "markdown",
      "metadata": {
        "id": "qyEBCNGFpruV",
        "colab_type": "text"
      },
      "source": [
        "* TensorFlow will infer the datatype, defaulting to tf.float32 for floats and tf.int32 for integers"
      ]
    },
    {
      "cell_type": "markdown",
      "metadata": {
        "id": "eh3H369fqGfX",
        "colab_type": "text"
      },
      "source": [
        "##The datatype can be explicitly specified"
      ]
    },
    {
      "cell_type": "code",
      "metadata": {
        "id": "oyPAINzRptJN",
        "colab_type": "code",
        "colab": {
          "base_uri": "https://localhost:8080/",
          "height": 34
        },
        "outputId": "46b9149c-e8ee-4ce9-b434-08f5ed2a56f8"
      },
      "source": [
        "float_var64 = tf.Variable(89, dtype = tf.float64)\n",
        "float_var64.dtype"
      ],
      "execution_count": 21,
      "outputs": [
        {
          "output_type": "execute_result",
          "data": {
            "text/plain": [
              "tf.float64"
            ]
          },
          "metadata": {
            "tags": []
          },
          "execution_count": 21
        }
      ]
    },
    {
      "cell_type": "code",
      "metadata": {
        "id": "SAIoaWbIqR37",
        "colab_type": "code",
        "colab": {
          "base_uri": "https://localhost:8080/",
          "height": 34
        },
        "outputId": "7b5f5b0f-6dff-43ae-d716-bb8dee39047c"
      },
      "source": [
        "float_var64.numpy()"
      ],
      "execution_count": 22,
      "outputs": [
        {
          "output_type": "execute_result",
          "data": {
            "text/plain": [
              "89.0"
            ]
          },
          "metadata": {
            "tags": []
          },
          "execution_count": 22
        }
      ]
    },
    {
      "cell_type": "markdown",
      "metadata": {
        "id": "Li2_rk--q-ba",
        "colab_type": "text"
      },
      "source": [
        "TensorFlow has a large number of built-in datatypes.\n",
        "\n",
        "- tf.float16: 16-bit half-precision floating-point.\n",
        "- tf.float32: 32-bit single-precision floating-point.\n",
        "-tf.float64: 64-bit double-precision floating-point.\n",
        "-tf.bfloat16: 16-bit truncated floating-point.\n",
        "-tf.complex64: 64-bit single-precision complex.\n",
        "-tf.complex128: 128-bit double-precision complex.\n",
        "-tf.int8: 8-bit signed integer.\n",
        "-tf.uint8: 8-bit unsigned integer.\n",
        "-tf.uint16: 16-bit unsigned integer.\n",
        "-tf.uint32: 32-bit unsigned integer.\n",
        "-tf.uint64: 64-bit unsigned integer.\n",
        "-tf.int16: 16-bit signed integer.\n",
        "-tf.int32: 32-bit signed integer.\n",
        "-tf.int64: 64-bit signed integer.\n",
        "-tf.bool: Boolean.\n",
        "-tf.string: String.\n",
        "-tf.qint8: Quantized 8-bit signed integer.\n",
        "-tf.quint8: Quantized 8-bit unsigned integer.\n",
        "-tf.qint16: Quantized 16-bit signed integer.\n",
        "-tf.quint16: Quantized 16-bit unsigned integer.\n",
        "-tf.qint32: Quantized 32-bit signed integer.\n",
        "-tf.resource: Handle to a mutable resource.\n",
        "-tf.variant: Values of arbitrary types."
      ]
    },
    {
      "cell_type": "markdown",
      "metadata": {
        "id": "QcqZ2U-Yrl1S",
        "colab_type": "text"
      },
      "source": [
        "##To reassign a variable, use var.assign()"
      ]
    },
    {
      "cell_type": "code",
      "metadata": {
        "id": "04OUkIMJrg-C",
        "colab_type": "code",
        "colab": {
          "base_uri": "https://localhost:8080/",
          "height": 34
        },
        "outputId": "23e79632-9263-4499-d493-30bd009582a0"
      },
      "source": [
        "var_reassign = tf.Variable(89.0)\n",
        "var_reassign"
      ],
      "execution_count": 23,
      "outputs": [
        {
          "output_type": "execute_result",
          "data": {
            "text/plain": [
              "<tf.Variable 'Variable:0' shape=() dtype=float32, numpy=89.0>"
            ]
          },
          "metadata": {
            "tags": []
          },
          "execution_count": 23
        }
      ]
    },
    {
      "cell_type": "code",
      "metadata": {
        "id": "0nsSGkN9sIkN",
        "colab_type": "code",
        "colab": {
          "base_uri": "https://localhost:8080/",
          "height": 34
        },
        "outputId": "4fc72e6f-fbe1-4182-92d2-176962e77604"
      },
      "source": [
        "var_reassign.assign(98.0)\n",
        "var_reassign"
      ],
      "execution_count": 24,
      "outputs": [
        {
          "output_type": "execute_result",
          "data": {
            "text/plain": [
              "<tf.Variable 'Variable:0' shape=() dtype=float32, numpy=98.0>"
            ]
          },
          "metadata": {
            "tags": []
          },
          "execution_count": 24
        }
      ]
    },
    {
      "cell_type": "code",
      "metadata": {
        "id": "CmbJPv11u44r",
        "colab_type": "code",
        "colab": {
          "base_uri": "https://localhost:8080/",
          "height": 68
        },
        "outputId": "df86b269-3fd6-4061-fa61-11e0eacf5d32"
      },
      "source": [
        "initial_value = tf.random.normal(shape=(2,2))\n",
        "a = tf.Variable(initial_value)\n",
        "print(a)"
      ],
      "execution_count": 25,
      "outputs": [
        {
          "output_type": "stream",
          "text": [
            "<tf.Variable 'Variable:0' shape=(2, 2) dtype=float32, numpy=\n",
            "array([[0.8089824 , 1.1437266 ],\n",
            "       [0.3796853 , 0.95578766]], dtype=float32)>\n"
          ],
          "name": "stdout"
        }
      ]
    },
    {
      "cell_type": "markdown",
      "metadata": {
        "id": "glObt92OvRN6",
        "colab_type": "text"
      },
      "source": [
        "We can assign \"=\" with assign (value), or assign_add (value) with \"+ =\", or assign_sub (value) with \"-=\""
      ]
    },
    {
      "cell_type": "code",
      "metadata": {
        "id": "u5Cvvr46vSlF",
        "colab_type": "code",
        "colab": {
          "base_uri": "https://localhost:8080/",
          "height": 68
        },
        "outputId": "0eed6e0c-7b35-436a-d151-ae2076dd66bd"
      },
      "source": [
        "new_value = tf.random.normal(shape=(2,2))\n",
        "a.assign(new_value)\n",
        "a"
      ],
      "execution_count": 26,
      "outputs": [
        {
          "output_type": "execute_result",
          "data": {
            "text/plain": [
              "<tf.Variable 'Variable:0' shape=(2, 2) dtype=float32, numpy=\n",
              "array([[ 1.158006  , -0.25985676],\n",
              "       [-0.59844977, -0.5830384 ]], dtype=float32)>"
            ]
          },
          "metadata": {
            "tags": []
          },
          "execution_count": 26
        }
      ]
    },
    {
      "cell_type": "code",
      "metadata": {
        "id": "MZbk0vXMvmA8",
        "colab_type": "code",
        "colab": {}
      },
      "source": [
        "for i in range(2):\n",
        "    for j in range(2):\n",
        "        assert a[i, j] == new_value[i, j]"
      ],
      "execution_count": 0,
      "outputs": []
    },
    {
      "cell_type": "code",
      "metadata": {
        "id": "fl-u0v8vwoPI",
        "colab_type": "code",
        "colab": {}
      },
      "source": [
        "added_value = tf.random.normal(shape=(2,2))\n",
        "a.assign_add(added_value)\n",
        "for i in range(2):\n",
        "    for j in range(2):\n",
        "        assert a[i,j] == new_value[i,j] + added_value[i,j]"
      ],
      "execution_count": 0,
      "outputs": []
    },
    {
      "cell_type": "code",
      "metadata": {
        "id": "LlGYAYmayOE1",
        "colab_type": "code",
        "colab": {
          "base_uri": "https://localhost:8080/",
          "height": 68
        },
        "outputId": "90247ff1-dfc1-4ed3-fe21-e44017e807e2"
      },
      "source": [
        "a"
      ],
      "execution_count": 29,
      "outputs": [
        {
          "output_type": "execute_result",
          "data": {
            "text/plain": [
              "<tf.Variable 'Variable:0' shape=(2, 2) dtype=float32, numpy=\n",
              "array([[ 0.29949635, -0.00920376],\n",
              "       [-1.4293183 , -1.1614537 ]], dtype=float32)>"
            ]
          },
          "metadata": {
            "tags": []
          },
          "execution_count": 29
        }
      ]
    },
    {
      "cell_type": "markdown",
      "metadata": {
        "id": "J14e_bf8yS_Y",
        "colab_type": "text"
      },
      "source": [
        "##Shaping a tensor"
      ]
    },
    {
      "cell_type": "code",
      "metadata": {
        "id": "PblcsC7HyUdL",
        "colab_type": "code",
        "colab": {
          "base_uri": "https://localhost:8080/",
          "height": 136
        },
        "outputId": "43aad6db-7614-45ef-b26e-7bdcccfbf9a1"
      },
      "source": [
        "tensor_var = tf.Variable([ [ [10., 11., 12.], [13., 14., 15.] ], [ [16., 17., 18.], [19., 20., 21.] ] ]) # tensor variable\n",
        "print(tensor_var)\n",
        "print(tensor_var.shape)"
      ],
      "execution_count": 30,
      "outputs": [
        {
          "output_type": "stream",
          "text": [
            "<tf.Variable 'Variable:0' shape=(2, 2, 3) dtype=float32, numpy=\n",
            "array([[[10., 11., 12.],\n",
            "        [13., 14., 15.]],\n",
            "\n",
            "       [[16., 17., 18.],\n",
            "        [19., 20., 21.]]], dtype=float32)>\n",
            "(2, 2, 3)\n"
          ],
          "name": "stdout"
        }
      ]
    },
    {
      "cell_type": "markdown",
      "metadata": {
        "id": "9XdyVL_AzUFa",
        "colab_type": "text"
      },
      "source": [
        "## Tensors can be reshaped and retain the same values which is required for constructing Neural networks."
      ]
    },
    {
      "cell_type": "code",
      "metadata": {
        "id": "FVczRiBszVKT",
        "colab_type": "code",
        "colab": {
          "base_uri": "https://localhost:8080/",
          "height": 68
        },
        "outputId": "1a76453e-0bed-4511-980f-13ceaf3bd769"
      },
      "source": [
        "tensor1 = tf.reshape(tensor_var,[2,6]) # 2 rows 6 cols\n",
        "#tensor2 = tf.reshape(tensor,[1,12]) # 1 rows 12 cols\n",
        "tensor1"
      ],
      "execution_count": 31,
      "outputs": [
        {
          "output_type": "execute_result",
          "data": {
            "text/plain": [
              "<tf.Tensor: shape=(2, 6), dtype=float32, numpy=\n",
              "array([[10., 11., 12., 13., 14., 15.],\n",
              "       [16., 17., 18., 19., 20., 21.]], dtype=float32)>"
            ]
          },
          "metadata": {
            "tags": []
          },
          "execution_count": 31
        }
      ]
    },
    {
      "cell_type": "code",
      "metadata": {
        "id": "Cihmb0C_zicq",
        "colab_type": "code",
        "colab": {
          "base_uri": "https://localhost:8080/",
          "height": 68
        },
        "outputId": "b9ff6625-2d2e-460f-c9e5-b7d0c8879ea8"
      },
      "source": [
        "tensor2 = tf.reshape(tensor_var,[1,12]) # 1 row 12 columns\n",
        "tensor2"
      ],
      "execution_count": 32,
      "outputs": [
        {
          "output_type": "execute_result",
          "data": {
            "text/plain": [
              "<tf.Tensor: shape=(1, 12), dtype=float32, numpy=\n",
              "array([[10., 11., 12., 13., 14., 15., 16., 17., 18., 19., 20., 21.]],\n",
              "      dtype=float32)>"
            ]
          },
          "metadata": {
            "tags": []
          },
          "execution_count": 32
        }
      ]
    },
    {
      "cell_type": "markdown",
      "metadata": {
        "id": "UKwbw_INzv9L",
        "colab_type": "text"
      },
      "source": [
        "##Rank of a tensor"
      ]
    },
    {
      "cell_type": "markdown",
      "metadata": {
        "id": "MMxcqvvYz1Bk",
        "colab_type": "text"
      },
      "source": [
        "The rank of a tensor is defined as the number of dimensions, which is the number of indices that are required to specify any particular element of that tensor."
      ]
    },
    {
      "cell_type": "code",
      "metadata": {
        "id": "BVV9KQIHzw_O",
        "colab_type": "code",
        "colab": {
          "base_uri": "https://localhost:8080/",
          "height": 34
        },
        "outputId": "91c4fc0b-d3ce-4314-89eb-62a454ec8d57"
      },
      "source": [
        "tf.rank(tensor_var)"
      ],
      "execution_count": 33,
      "outputs": [
        {
          "output_type": "execute_result",
          "data": {
            "text/plain": [
              "<tf.Tensor: shape=(), dtype=int32, numpy=3>"
            ]
          },
          "metadata": {
            "tags": []
          },
          "execution_count": 33
        }
      ]
    },
    {
      "cell_type": "markdown",
      "metadata": {
        "id": "4mI7IEAn0ANo",
        "colab_type": "text"
      },
      "source": [
        "(the shape is () because the output here is a scalar value)"
      ]
    },
    {
      "cell_type": "markdown",
      "metadata": {
        "id": "G_wRGvoz0j-T",
        "colab_type": "text"
      },
      "source": [
        "##Specifying an element of a tensor"
      ]
    },
    {
      "cell_type": "code",
      "metadata": {
        "id": "d6PwmS5E0B9k",
        "colab_type": "code",
        "colab": {
          "base_uri": "https://localhost:8080/",
          "height": 34
        },
        "outputId": "1e55d690-d5d1-4990-c0b9-e94bc3deed66"
      },
      "source": [
        "tensor3 = tensor_var[1, 0, 2] # slice 1, row 0, column 2\n",
        "tensor3"
      ],
      "execution_count": 34,
      "outputs": [
        {
          "output_type": "execute_result",
          "data": {
            "text/plain": [
              "<tf.Tensor: shape=(), dtype=float32, numpy=18.0>"
            ]
          },
          "metadata": {
            "tags": []
          },
          "execution_count": 34
        }
      ]
    },
    {
      "cell_type": "markdown",
      "metadata": {
        "id": "7A6ohNEc0_QU",
        "colab_type": "text"
      },
      "source": [
        "##Casting a tensor to a NumPy variable"
      ]
    },
    {
      "cell_type": "code",
      "metadata": {
        "id": "CY8E3D5x1ARG",
        "colab_type": "code",
        "colab": {
          "base_uri": "https://localhost:8080/",
          "height": 102
        },
        "outputId": "55d8ab7a-28f9-4d45-a9f2-6a4befc34093"
      },
      "source": [
        "print(tensor_var.numpy())"
      ],
      "execution_count": 35,
      "outputs": [
        {
          "output_type": "stream",
          "text": [
            "[[[10. 11. 12.]\n",
            "  [13. 14. 15.]]\n",
            "\n",
            " [[16. 17. 18.]\n",
            "  [19. 20. 21.]]]\n"
          ],
          "name": "stdout"
        }
      ]
    },
    {
      "cell_type": "code",
      "metadata": {
        "id": "CERyZCcu1IMW",
        "colab_type": "code",
        "colab": {
          "base_uri": "https://localhost:8080/",
          "height": 34
        },
        "outputId": "fef6e3e5-3741-4c3b-fa3f-2232dd74a233"
      },
      "source": [
        "print(tensor_var[1, 0, 2].numpy())"
      ],
      "execution_count": 36,
      "outputs": [
        {
          "output_type": "stream",
          "text": [
            "18.0\n"
          ],
          "name": "stdout"
        }
      ]
    },
    {
      "cell_type": "markdown",
      "metadata": {
        "id": "0DonsARZ2Fh5",
        "colab_type": "text"
      },
      "source": [
        "## Finding the size or length of a tensor"
      ]
    },
    {
      "cell_type": "code",
      "metadata": {
        "id": "1TZiMOFH2Gmg",
        "colab_type": "code",
        "colab": {
          "base_uri": "https://localhost:8080/",
          "height": 34
        },
        "outputId": "16083a65-d16d-4b3a-9529-d246911fe5b2"
      },
      "source": [
        "tensor_size = tf.size(input=tensor_var).numpy()\n",
        "tensor_size"
      ],
      "execution_count": 38,
      "outputs": [
        {
          "output_type": "execute_result",
          "data": {
            "text/plain": [
              "12"
            ]
          },
          "metadata": {
            "tags": []
          },
          "execution_count": 38
        }
      ]
    },
    {
      "cell_type": "markdown",
      "metadata": {
        "id": "WnUfEXMk2Nwg",
        "colab_type": "text"
      },
      "source": [
        "## Data Type of Tensor\n"
      ]
    },
    {
      "cell_type": "code",
      "metadata": {
        "id": "8UXHdoWE2QkR",
        "colab_type": "code",
        "colab": {
          "base_uri": "https://localhost:8080/",
          "height": 34
        },
        "outputId": "1a86132f-e5ed-46c3-db4e-c1f65bcbac8e"
      },
      "source": [
        "tensor3.dtype"
      ],
      "execution_count": 39,
      "outputs": [
        {
          "output_type": "execute_result",
          "data": {
            "text/plain": [
              "tf.float32"
            ]
          },
          "metadata": {
            "tags": []
          },
          "execution_count": 39
        }
      ]
    },
    {
      "cell_type": "markdown",
      "metadata": {
        "id": "M0jz4R2O2a55",
        "colab_type": "text"
      },
      "source": [
        "##Tensorflow mathematical operations"
      ]
    },
    {
      "cell_type": "markdown",
      "metadata": {
        "id": "hnwMvFdh2m_l",
        "colab_type": "text"
      },
      "source": [
        "Can be used as numpy for artificial operations. Tensorflow can not execute these operations on the GPU or TPU."
      ]
    },
    {
      "cell_type": "code",
      "metadata": {
        "id": "Ff4FnGXe2cId",
        "colab_type": "code",
        "colab": {
          "base_uri": "https://localhost:8080/",
          "height": 272
        },
        "outputId": "d17c5a5f-37c2-4008-f41a-92a8a376154f"
      },
      "source": [
        "a = tf.random.normal(shape=(2,2))\n",
        "b = tf.random.normal(shape=(2,2))\n",
        "c = a + b\n",
        "d = tf.square(c)\n",
        "e = tf.exp(c)\n",
        "print(a)\n",
        "print(b)\n",
        "print(c)\n",
        "print(d)\n",
        "print(e)"
      ],
      "execution_count": 40,
      "outputs": [
        {
          "output_type": "stream",
          "text": [
            "tf.Tensor(\n",
            "[[ 1.6126053  -0.12196143]\n",
            " [ 0.9344708  -0.43732217]], shape=(2, 2), dtype=float32)\n",
            "tf.Tensor(\n",
            "[[-0.2842556  -0.4905156 ]\n",
            " [ 0.7645078   0.41764784]], shape=(2, 2), dtype=float32)\n",
            "tf.Tensor(\n",
            "[[ 1.3283497  -0.612477  ]\n",
            " [ 1.6989785  -0.01967433]], shape=(2, 2), dtype=float32)\n",
            "tf.Tensor(\n",
            "[[1.7645129e+00 3.7512809e-01]\n",
            " [2.8865280e+00 3.8707929e-04]], shape=(2, 2), dtype=float32)\n",
            "tf.Tensor(\n",
            "[[3.774809  0.5420067]\n",
            " [5.468359  0.9805179]], shape=(2, 2), dtype=float32)\n"
          ],
          "name": "stdout"
        }
      ]
    },
    {
      "cell_type": "markdown",
      "metadata": {
        "id": "m7EgMQZ-4RNo",
        "colab_type": "text"
      },
      "source": [
        "## Performing element-wise primitive tensor operations"
      ]
    },
    {
      "cell_type": "code",
      "metadata": {
        "id": "Gt-pfd3W4Scm",
        "colab_type": "code",
        "colab": {
          "base_uri": "https://localhost:8080/",
          "height": 119
        },
        "outputId": "4621b119-1795-4850-d7c3-7f86ddca086b"
      },
      "source": [
        "tensor_var * tensor_var"
      ],
      "execution_count": 41,
      "outputs": [
        {
          "output_type": "execute_result",
          "data": {
            "text/plain": [
              "<tf.Tensor: shape=(2, 2, 3), dtype=float32, numpy=\n",
              "array([[[100., 121., 144.],\n",
              "        [169., 196., 225.]],\n",
              "\n",
              "       [[256., 289., 324.],\n",
              "        [361., 400., 441.]]], dtype=float32)>"
            ]
          },
          "metadata": {
            "tags": []
          },
          "execution_count": 41
        }
      ]
    },
    {
      "cell_type": "markdown",
      "metadata": {
        "id": "4trXZcFD4kU0",
        "colab_type": "text"
      },
      "source": [
        "## Broadcasting in Tensorflow\n",
        "Element-wise tensor operations support broadcasting in the same way that NumPy arrays do.\n",
        "\n",
        "The simplest example is multiplication of a tensor by a scalar value."
      ]
    },
    {
      "cell_type": "code",
      "metadata": {
        "id": "2gKflJ1_4o5J",
        "colab_type": "code",
        "colab": {
          "base_uri": "https://localhost:8080/",
          "height": 119
        },
        "outputId": "ccf21782-593d-47c4-d08d-e0b5a50c5d8f"
      },
      "source": [
        "tensor4 = tensor_var *4\n",
        "print(tensor4)"
      ],
      "execution_count": 42,
      "outputs": [
        {
          "output_type": "stream",
          "text": [
            "tf.Tensor(\n",
            "[[[40. 44. 48.]\n",
            "  [52. 56. 60.]]\n",
            "\n",
            " [[64. 68. 72.]\n",
            "  [76. 80. 84.]]], shape=(2, 2, 3), dtype=float32)\n"
          ],
          "name": "stdout"
        }
      ]
    },
    {
      "cell_type": "markdown",
      "metadata": {
        "id": "o9dfJhQt5U4J",
        "colab_type": "text"
      },
      "source": [
        "##Transpose Matrix multiplication"
      ]
    },
    {
      "cell_type": "code",
      "metadata": {
        "id": "dPetb40z5WEm",
        "colab_type": "code",
        "colab": {
          "base_uri": "https://localhost:8080/",
          "height": 34
        },
        "outputId": "20e6a609-b51a-47c8-b666-e0d17881eae9"
      },
      "source": [
        "matrix_u = tf.constant([[6,7,6]])\n",
        "matrix_v = tf.constant([[3,4,3]])\n",
        "tf.matmul(matrix_u, tf.transpose(a=matrix_v))"
      ],
      "execution_count": 43,
      "outputs": [
        {
          "output_type": "execute_result",
          "data": {
            "text/plain": [
              "<tf.Tensor: shape=(1, 1), dtype=int32, numpy=array([[64]], dtype=int32)>"
            ]
          },
          "metadata": {
            "tags": []
          },
          "execution_count": 43
        }
      ]
    },
    {
      "cell_type": "code",
      "metadata": {
        "id": "_TfgaVWEaMII",
        "colab_type": "code",
        "colab": {
          "base_uri": "https://localhost:8080/",
          "height": 34
        },
        "outputId": "18e3b48a-dd25-464a-8f0f-1b36bbf6d73b"
      },
      "source": [
        "matrix_u "
      ],
      "execution_count": 44,
      "outputs": [
        {
          "output_type": "execute_result",
          "data": {
            "text/plain": [
              "<tf.Tensor: shape=(1, 3), dtype=int32, numpy=array([[6, 7, 6]], dtype=int32)>"
            ]
          },
          "metadata": {
            "tags": []
          },
          "execution_count": 44
        }
      ]
    },
    {
      "cell_type": "code",
      "metadata": {
        "id": "N1lgU91pa0BH",
        "colab_type": "code",
        "colab": {
          "base_uri": "https://localhost:8080/",
          "height": 34
        },
        "outputId": "bafbea2a-d391-418b-f4ab-35736744fbbb"
      },
      "source": [
        "matrix_v"
      ],
      "execution_count": 45,
      "outputs": [
        {
          "output_type": "execute_result",
          "data": {
            "text/plain": [
              "<tf.Tensor: shape=(1, 3), dtype=int32, numpy=array([[3, 4, 3]], dtype=int32)>"
            ]
          },
          "metadata": {
            "tags": []
          },
          "execution_count": 45
        }
      ]
    },
    {
      "cell_type": "code",
      "metadata": {
        "id": "PInjvHFaa2tW",
        "colab_type": "code",
        "colab": {
          "base_uri": "https://localhost:8080/",
          "height": 85
        },
        "outputId": "d6c723c1-9738-4dec-d5cc-08eeb8c9864d"
      },
      "source": [
        "tf.transpose(matrix_v)"
      ],
      "execution_count": 46,
      "outputs": [
        {
          "output_type": "execute_result",
          "data": {
            "text/plain": [
              "<tf.Tensor: shape=(3, 1), dtype=int32, numpy=\n",
              "array([[3],\n",
              "       [4],\n",
              "       [3]], dtype=int32)>"
            ]
          },
          "metadata": {
            "tags": []
          },
          "execution_count": 46
        }
      ]
    },
    {
      "cell_type": "markdown",
      "metadata": {
        "id": "3kk81mPI5_-0",
        "colab_type": "text"
      },
      "source": [
        "## Casting a tensor to another datatype"
      ]
    },
    {
      "cell_type": "code",
      "metadata": {
        "id": "zpZbwLrV6BZA",
        "colab_type": "code",
        "colab": {
          "base_uri": "https://localhost:8080/",
          "height": 68
        },
        "outputId": "e4c548c8-525e-4e75-d436-9e96e4ec1519"
      },
      "source": [
        "i = tf.cast(tensor1, dtype=tf.int32)\n",
        "i"
      ],
      "execution_count": 47,
      "outputs": [
        {
          "output_type": "execute_result",
          "data": {
            "text/plain": [
              "<tf.Tensor: shape=(2, 6), dtype=int32, numpy=\n",
              "array([[10, 11, 12, 13, 14, 15],\n",
              "       [16, 17, 18, 19, 20, 21]], dtype=int32)>"
            ]
          },
          "metadata": {
            "tags": []
          },
          "execution_count": 47
        }
      ]
    },
    {
      "cell_type": "markdown",
      "metadata": {
        "id": "VuWloXOw6J5V",
        "colab_type": "text"
      },
      "source": [
        "## Casting with truncation"
      ]
    },
    {
      "cell_type": "code",
      "metadata": {
        "id": "LzxabbvZ6K9x",
        "colab_type": "code",
        "colab": {
          "base_uri": "https://localhost:8080/",
          "height": 34
        },
        "outputId": "15d4ddac-bbee-44b5-d279-27fd05def2db"
      },
      "source": [
        "j = tf.cast(tf.constant(4.9), dtype=tf.int32)\n",
        "j"
      ],
      "execution_count": 48,
      "outputs": [
        {
          "output_type": "execute_result",
          "data": {
            "text/plain": [
              "<tf.Tensor: shape=(), dtype=int32, numpy=4>"
            ]
          },
          "metadata": {
            "tags": []
          },
          "execution_count": 48
        }
      ]
    },
    {
      "cell_type": "markdown",
      "metadata": {
        "id": "V1kGhz9n6dfT",
        "colab_type": "text"
      },
      "source": [
        "##Ragged tensors"
      ]
    },
    {
      "cell_type": "markdown",
      "metadata": {
        "id": "ZcrgEe2A7V5b",
        "colab_type": "text"
      },
      "source": [
        "A ragged tensor is a tensor having one or more ragged dimensions. Ragged dimensions are dimensions that have slices having various lengths.There are a variety of methods for the declaration of ragged arrays, the simplest way is declaring a constant ragged array."
      ]
    },
    {
      "cell_type": "code",
      "metadata": {
        "id": "mRCGbaFG6ezK",
        "colab_type": "code",
        "colab": {
          "base_uri": "https://localhost:8080/",
          "height": 119
        },
        "outputId": "796049f8-1789-4a58-fd4c-e819a0ff6c61"
      },
      "source": [
        "ragged =tf.ragged.constant([[9, 7, 4, 3], [], [11, 12, 8], [3], [7,8]])\n",
        "print(ragged)\n",
        "print(ragged[0,:])\n",
        "print(ragged[1,:])\n",
        "print(ragged[2,:])\n",
        "print(ragged[3,:])\n",
        "print(ragged[4,:])"
      ],
      "execution_count": 50,
      "outputs": [
        {
          "output_type": "stream",
          "text": [
            "<tf.RaggedTensor [[9, 7, 4, 3], [], [11, 12, 8], [3], [7, 8]]>\n",
            "tf.Tensor([9 7 4 3], shape=(4,), dtype=int32)\n",
            "tf.Tensor([], shape=(0,), dtype=int32)\n",
            "tf.Tensor([11 12  8], shape=(3,), dtype=int32)\n",
            "tf.Tensor([3], shape=(1,), dtype=int32)\n",
            "tf.Tensor([7 8], shape=(2,), dtype=int32)\n"
          ],
          "name": "stdout"
        }
      ]
    },
    {
      "cell_type": "code",
      "metadata": {
        "id": "_0ZoP6Y97fhM",
        "colab_type": "code",
        "colab": {
          "base_uri": "https://localhost:8080/",
          "height": 34
        },
        "outputId": "9c7dffb3-7af7-4e05-ba37-78bdfda406ad"
      },
      "source": [
        "ragged.shape"
      ],
      "execution_count": 51,
      "outputs": [
        {
          "output_type": "execute_result",
          "data": {
            "text/plain": [
              "TensorShape([5, None])"
            ]
          },
          "metadata": {
            "tags": []
          },
          "execution_count": 51
        }
      ]
    },
    {
      "cell_type": "markdown",
      "metadata": {
        "id": "BufpGijy7pOQ",
        "colab_type": "text"
      },
      "source": [
        "## Squared difference of tensors"
      ]
    },
    {
      "cell_type": "code",
      "metadata": {
        "id": "sKFEplGT7qk3",
        "colab_type": "code",
        "colab": {
          "base_uri": "https://localhost:8080/",
          "height": 34
        },
        "outputId": "31a22733-f410-4e9e-a3e0-0e0fa3c9ea2c"
      },
      "source": [
        "varx = [4,5,6,1,2]\n",
        "vary = 8\n",
        "varz = tf.math.squared_difference(varx,vary)\n",
        "varz"
      ],
      "execution_count": 52,
      "outputs": [
        {
          "output_type": "execute_result",
          "data": {
            "text/plain": [
              "<tf.Tensor: shape=(5,), dtype=int32, numpy=array([16,  9,  4, 49, 36], dtype=int32)>"
            ]
          },
          "metadata": {
            "tags": []
          },
          "execution_count": 52
        }
      ]
    },
    {
      "cell_type": "markdown",
      "metadata": {
        "id": "bS6YPn4h758b",
        "colab_type": "text"
      },
      "source": [
        "##Calculate the mean"
      ]
    },
    {
      "cell_type": "markdown",
      "metadata": {
        "id": "ZlSQi-meeNi3",
        "colab_type": "text"
      },
      "source": [
        "#### Function available tf.reduce_mean()."
      ]
    },
    {
      "cell_type": "markdown",
      "metadata": {
        "id": "OOpVGbVSeYgI",
        "colab_type": "text"
      },
      "source": [
        "tf.reduce.mean() is similar to np.mean(), except that it infers the return datatype from the input tensor, whereas np.mean allows you to specify the output type\n",
        "\n",
        "\n",
        "#### tf.reduce_mean(input_tensor, axis=None, keepdims=None, name=None)"
      ]
    },
    {
      "cell_type": "code",
      "metadata": {
        "id": "hmg1gIL977KX",
        "colab_type": "code",
        "colab": {
          "base_uri": "https://localhost:8080/",
          "height": 68
        },
        "outputId": "b2b93a50-df34-47f8-f850-30d7ea07a7bc"
      },
      "source": [
        "# Defining a constant\n",
        "numbers = tf.constant([[8., 9.], [1., 2.]])\n",
        "numbers"
      ],
      "execution_count": 53,
      "outputs": [
        {
          "output_type": "execute_result",
          "data": {
            "text/plain": [
              "<tf.Tensor: shape=(2, 2), dtype=float32, numpy=\n",
              "array([[8., 9.],\n",
              "       [1., 2.]], dtype=float32)>"
            ]
          },
          "metadata": {
            "tags": []
          },
          "execution_count": 53
        }
      ]
    },
    {
      "cell_type": "markdown",
      "metadata": {
        "id": "M8s1ZKQEf_q9",
        "colab_type": "text"
      },
      "source": [
        "##Calculate the mean across all axes"
      ]
    },
    {
      "cell_type": "code",
      "metadata": {
        "id": "ehG4wOYUgBSF",
        "colab_type": "code",
        "colab": {
          "base_uri": "https://localhost:8080/",
          "height": 34
        },
        "outputId": "9a02cbf1-f0d8-46d5-db3c-3e6edc35ff24"
      },
      "source": [
        "tf.reduce_mean(input_tensor=numbers) #default axis = None(20 /5 = 4)"
      ],
      "execution_count": 54,
      "outputs": [
        {
          "output_type": "execute_result",
          "data": {
            "text/plain": [
              "<tf.Tensor: shape=(), dtype=float32, numpy=5.0>"
            ]
          },
          "metadata": {
            "tags": []
          },
          "execution_count": 54
        }
      ]
    },
    {
      "cell_type": "markdown",
      "metadata": {
        "id": "Ka2GGF_RgaZE",
        "colab_type": "text"
      },
      "source": [
        "##Calculate the mean across columns (reduce rows) with this:"
      ]
    },
    {
      "cell_type": "code",
      "metadata": {
        "id": "1PrwZaysgbwP",
        "colab_type": "code",
        "colab": {
          "base_uri": "https://localhost:8080/",
          "height": 34
        },
        "outputId": "993d1975-5a3c-48f1-b40e-e8f5f9f1f549"
      },
      "source": [
        "tf.reduce_mean(input_tensor=numbers,axis=0)#column wise mean"
      ],
      "execution_count": 55,
      "outputs": [
        {
          "output_type": "execute_result",
          "data": {
            "text/plain": [
              "<tf.Tensor: shape=(2,), dtype=float32, numpy=array([4.5, 5.5], dtype=float32)>"
            ]
          },
          "metadata": {
            "tags": []
          },
          "execution_count": 55
        }
      ]
    },
    {
      "cell_type": "markdown",
      "metadata": {
        "id": "FWATaSJAgx3C",
        "colab_type": "text"
      },
      "source": [
        "## When keepdims = True"
      ]
    },
    {
      "cell_type": "code",
      "metadata": {
        "id": "nJEUFRFug4Gd",
        "colab_type": "code",
        "colab": {
          "base_uri": "https://localhost:8080/",
          "height": 34
        },
        "outputId": "6a888815-1d28-4c4b-8688-06a9d13f5193"
      },
      "source": [
        "tf.reduce_mean(input_tensor=numbers, axis=0, keepdims=True) #the reduced axis is retained with a length of 1"
      ],
      "execution_count": 56,
      "outputs": [
        {
          "output_type": "execute_result",
          "data": {
            "text/plain": [
              "<tf.Tensor: shape=(1, 2), dtype=float32, numpy=array([[4.5, 5.5]], dtype=float32)>"
            ]
          },
          "metadata": {
            "tags": []
          },
          "execution_count": 56
        }
      ]
    },
    {
      "cell_type": "markdown",
      "metadata": {
        "id": "fBoaEfYzkAcv",
        "colab_type": "text"
      },
      "source": [
        "## Calculate the mean across rows (reduce columns) with this:"
      ]
    },
    {
      "cell_type": "code",
      "metadata": {
        "id": "Dkh7m6oDhuUS",
        "colab_type": "code",
        "colab": {
          "base_uri": "https://localhost:8080/",
          "height": 34
        },
        "outputId": "c180ff35-bf24-4115-e8c6-e3aaddf5b022"
      },
      "source": [
        "tf.reduce_mean(input_tensor=numbers, axis=1)"
      ],
      "execution_count": 57,
      "outputs": [
        {
          "output_type": "execute_result",
          "data": {
            "text/plain": [
              "<tf.Tensor: shape=(2,), dtype=float32, numpy=array([8.5, 1.5], dtype=float32)>"
            ]
          },
          "metadata": {
            "tags": []
          },
          "execution_count": 57
        }
      ]
    },
    {
      "cell_type": "code",
      "metadata": {
        "id": "v6rCnOk7lxUG",
        "colab_type": "code",
        "colab": {
          "base_uri": "https://localhost:8080/",
          "height": 68
        },
        "outputId": "52128493-cd68-4157-e899-b2b381b0c8a8"
      },
      "source": [
        "tf.reduce_mean(input_tensor=numbers, axis=1,keepdims=True)#the reduced axis is retained with a length of 1"
      ],
      "execution_count": 58,
      "outputs": [
        {
          "output_type": "execute_result",
          "data": {
            "text/plain": [
              "<tf.Tensor: shape=(2, 1), dtype=float32, numpy=\n",
              "array([[8.5],\n",
              "       [1.5]], dtype=float32)>"
            ]
          },
          "metadata": {
            "tags": []
          },
          "execution_count": 58
        }
      ]
    },
    {
      "cell_type": "markdown",
      "metadata": {
        "id": "0UGxRb_EmjmN",
        "colab_type": "text"
      },
      "source": [
        "##Random values generation"
      ]
    },
    {
      "cell_type": "markdown",
      "metadata": {
        "id": "w3PTmC1umuJL",
        "colab_type": "text"
      },
      "source": [
        "tf.random.normal()\n",
        "\n",
        "tf.random.normal() outputs a tensor of the given shape filled with values of the dtype type from a normal distribution.\n",
        "\n",
        "The function is as follows:\n",
        "\n",
        "tf.random.normal(shape, mean = 0, stddev =2, dtype=tf.float32, seed=None, name=None)"
      ]
    },
    {
      "cell_type": "code",
      "metadata": {
        "id": "6fC-5cFCmlYd",
        "colab_type": "code",
        "colab": {
          "base_uri": "https://localhost:8080/",
          "height": 85
        },
        "outputId": "beed1d5e-f3a1-4810-eebc-7c2e9ddc8f2c"
      },
      "source": [
        "random_num  = tf.random.normal(shape=(3,2), mean = 0, stddev =1, dtype=tf.float32, seed=None, name=None)\n",
        "print(random_num)"
      ],
      "execution_count": 60,
      "outputs": [
        {
          "output_type": "stream",
          "text": [
            "tf.Tensor(\n",
            "[[-0.41427493  0.27209428]\n",
            " [ 0.18780643 -1.0397136 ]\n",
            " [-0.5562317  -0.03090313]], shape=(3, 2), dtype=float32)\n"
          ],
          "name": "stdout"
        }
      ]
    },
    {
      "cell_type": "code",
      "metadata": {
        "id": "El-mdW3Nnli4",
        "colab_type": "code",
        "colab": {
          "base_uri": "https://localhost:8080/",
          "height": 85
        },
        "outputId": "41f12469-657e-436b-adb1-6b10a3b28524"
      },
      "source": [
        "tf.random.normal(shape=(3,2), mean = 10, stddev =2, dtype=tf.float32, seed=None, name=None)"
      ],
      "execution_count": 61,
      "outputs": [
        {
          "output_type": "execute_result",
          "data": {
            "text/plain": [
              "<tf.Tensor: shape=(3, 2), dtype=float32, numpy=\n",
              "array([[ 9.789352 , 15.112456 ],\n",
              "       [ 6.917881 ,  7.0220633],\n",
              "       [ 8.757543 ,  9.656188 ]], dtype=float32)>"
            ]
          },
          "metadata": {
            "tags": []
          },
          "execution_count": 61
        }
      ]
    },
    {
      "cell_type": "markdown",
      "metadata": {
        "id": "lab8JiD1n0_v",
        "colab_type": "text"
      },
      "source": [
        "## tf.random.uniform()\n",
        "\n",
        "The function is this:\n",
        "\n",
        "tf.random.uniform(shape, minval = 0, maxval= None, dtype=tf.float32, seed=None, name=None)\n",
        "\n",
        "\n",
        "This outputs a tensor of the given shape filled with values from a uniform distribution in the range minval to maxval, where the lower bound is inclusive but the upper bound isn't."
      ]
    },
    {
      "cell_type": "code",
      "metadata": {
        "id": "iyQhcMJUn-su",
        "colab_type": "code",
        "colab": {
          "base_uri": "https://localhost:8080/",
          "height": 68
        },
        "outputId": "fb67de63-b887-4e7c-a25f-abe76071e478"
      },
      "source": [
        "tf.random.uniform(shape = (2,4), minval=0, maxval=None, dtype=tf.float32, seed=None, name=None)"
      ],
      "execution_count": 62,
      "outputs": [
        {
          "output_type": "execute_result",
          "data": {
            "text/plain": [
              "<tf.Tensor: shape=(2, 4), dtype=float32, numpy=\n",
              "array([[0.3663169 , 0.49927068, 0.393201  , 0.7616725 ],\n",
              "       [0.81794465, 0.72981584, 0.01226366, 0.9071251 ]], dtype=float32)>"
            ]
          },
          "metadata": {
            "tags": []
          },
          "execution_count": 62
        }
      ]
    },
    {
      "cell_type": "markdown",
      "metadata": {
        "id": "MzY1ro72pLsS",
        "colab_type": "text"
      },
      "source": [
        "##Setting the Seed"
      ]
    },
    {
      "cell_type": "code",
      "metadata": {
        "id": "z8zeSqWBpN8f",
        "colab_type": "code",
        "colab": {
          "base_uri": "https://localhost:8080/",
          "height": 221
        },
        "outputId": "abd550c3-00d5-4bc7-f639-706b84b48763"
      },
      "source": [
        "tf.random.set_seed(11)\n",
        "rand_num1 = tf.random.uniform(shape=(2,2),maxval=10,dtype=tf.int32)\n",
        "rand_num2 = tf.random.uniform(shape=(2,2),maxval=10,dtype=tf.int32)\n",
        "#call 1\n",
        "print(rand_num1) \n",
        "print(rand_num2)\n",
        "#Call 2\n",
        "print(rand_num1) \n",
        "print(rand_num2)"
      ],
      "execution_count": 65,
      "outputs": [
        {
          "output_type": "stream",
          "text": [
            "tf.Tensor(\n",
            "[[4 6]\n",
            " [5 2]], shape=(2, 2), dtype=int32)\n",
            "tf.Tensor(\n",
            "[[9 7]\n",
            " [9 4]], shape=(2, 2), dtype=int32)\n",
            "tf.Tensor(\n",
            "[[4 6]\n",
            " [5 2]], shape=(2, 2), dtype=int32)\n",
            "tf.Tensor(\n",
            "[[9 7]\n",
            " [9 4]], shape=(2, 2), dtype=int32)\n"
          ],
          "name": "stdout"
        }
      ]
    },
    {
      "cell_type": "markdown",
      "metadata": {
        "id": "33P-rBnE36Uv",
        "colab_type": "text"
      },
      "source": [
        "##Practical example of Random values using Dices"
      ]
    },
    {
      "cell_type": "code",
      "metadata": {
        "id": "cwSCzce65Jaz",
        "colab_type": "code",
        "colab": {
          "base_uri": "https://localhost:8080/",
          "height": 765
        },
        "outputId": "4981d007-38e1-43bf-c7e4-1524ac90bdd0"
      },
      "source": [
        "dice11 = tf.Variable(tf.random.uniform([10,1],minval=1,maxval=7,dtype=tf.int32))\n",
        "dice12 = tf.Variable(tf.random.uniform([10,1],minval=1,maxval=7,dtype=tf.int32))\n",
        "print(dice11)\n",
        "print(dice12)\n",
        "# lets ADD\n",
        "dice_sum1 = dice11 + dice12\n",
        "print(dice_sum1)\n",
        "# We've got three separate 10x1 matrices. To produce a single 10x3 matrix, we'll concatenate them along dimension 1.column wise\n",
        "finale_matrix = tf.concat(values=[dice11, dice12, dice_sum1], axis=1)\n",
        "print(finale_matrix)"
      ],
      "execution_count": 68,
      "outputs": [
        {
          "output_type": "stream",
          "text": [
            "<tf.Variable 'Variable:0' shape=(10, 1) dtype=int32, numpy=\n",
            "array([[3],\n",
            "       [4],\n",
            "       [1],\n",
            "       [5],\n",
            "       [6],\n",
            "       [6],\n",
            "       [6],\n",
            "       [1],\n",
            "       [6],\n",
            "       [4]], dtype=int32)>\n",
            "<tf.Variable 'Variable:0' shape=(10, 1) dtype=int32, numpy=\n",
            "array([[4],\n",
            "       [5],\n",
            "       [1],\n",
            "       [5],\n",
            "       [2],\n",
            "       [6],\n",
            "       [5],\n",
            "       [4],\n",
            "       [3],\n",
            "       [4]], dtype=int32)>\n",
            "tf.Tensor(\n",
            "[[ 7]\n",
            " [ 9]\n",
            " [ 2]\n",
            " [10]\n",
            " [ 8]\n",
            " [12]\n",
            " [11]\n",
            " [ 5]\n",
            " [ 9]\n",
            " [ 8]], shape=(10, 1), dtype=int32)\n",
            "tf.Tensor(\n",
            "[[ 3  4  7]\n",
            " [ 4  5  9]\n",
            " [ 1  1  2]\n",
            " [ 5  5 10]\n",
            " [ 6  2  8]\n",
            " [ 6  6 12]\n",
            " [ 6  5 11]\n",
            " [ 1  4  5]\n",
            " [ 6  3  9]\n",
            " [ 4  4  8]], shape=(10, 3), dtype=int32)\n"
          ],
          "name": "stdout"
        }
      ]
    },
    {
      "cell_type": "markdown",
      "metadata": {
        "id": "O5kC4R1W8AaF",
        "colab_type": "text"
      },
      "source": [
        "## Finding the indices of the largest and smallest element"
      ]
    },
    {
      "cell_type": "markdown",
      "metadata": {
        "id": "Dhv9rTlJ8Mbk",
        "colab_type": "text"
      },
      "source": [
        "The following functions are available:\n",
        "\n",
        "tf.argmax(input, axis=None, name=None, output_type=tf.int64 )\n",
        "\n",
        "tf.argmin(input, axis=None, name=None, output_type=tf.int64 )"
      ]
    },
    {
      "cell_type": "code",
      "metadata": {
        "id": "oSAVq6PS8B6J",
        "colab_type": "code",
        "colab": {
          "base_uri": "https://localhost:8080/",
          "height": 34
        },
        "outputId": "a6faa6d4-9fa9-4e5d-9223-dcc2e418e0e3"
      },
      "source": [
        "# 1-D tensor\n",
        "tensor_1d = tf.constant([12, 11, 51, 42, 6, 16, -8, -19, 31])\n",
        "print(tensor_1d)"
      ],
      "execution_count": 69,
      "outputs": [
        {
          "output_type": "stream",
          "text": [
            "tf.Tensor([ 12  11  51  42   6  16  -8 -19  31], shape=(9,), dtype=int32)\n"
          ],
          "name": "stdout"
        }
      ]
    },
    {
      "cell_type": "code",
      "metadata": {
        "id": "Ezm6M0Gx86r9",
        "colab_type": "code",
        "colab": {
          "base_uri": "https://localhost:8080/",
          "height": 51
        },
        "outputId": "ff2f3235-b0b9-4e93-cfa4-17bbc232ac5e"
      },
      "source": [
        "i = tf.argmax(input=tensor_1d).numpy()\n",
        "print('index of max; ', i)\n",
        "print('Max element: ',tensor_1d[i].numpy())"
      ],
      "execution_count": 73,
      "outputs": [
        {
          "output_type": "stream",
          "text": [
            "index of max;  2\n",
            "Max element:  51\n"
          ],
          "name": "stdout"
        }
      ]
    },
    {
      "cell_type": "code",
      "metadata": {
        "id": "FyC5Ao1f-Z4U",
        "colab_type": "code",
        "colab": {
          "base_uri": "https://localhost:8080/",
          "height": 51
        },
        "outputId": "444ec006-c225-4710-87bd-649a883dd93d"
      },
      "source": [
        "i = tf.argmin(input=tensor_1d,axis=0).numpy()\n",
        "print('index of max; ', i)\n",
        "print('Max element: ',tensor_1d[i].numpy())"
      ],
      "execution_count": 74,
      "outputs": [
        {
          "output_type": "stream",
          "text": [
            "index of max;  7\n",
            "Max element:  -19\n"
          ],
          "name": "stdout"
        }
      ]
    },
    {
      "cell_type": "markdown",
      "metadata": {
        "id": "e_x8fnRALSWE",
        "colab_type": "text"
      },
      "source": [
        "## Saving and Restoring tensor using Checkpoint"
      ]
    },
    {
      "cell_type": "code",
      "metadata": {
        "id": "0EB30B-SITpC",
        "colab_type": "code",
        "outputId": "f2239ab1-8867-48c7-8ddf-cda3e61efb4d",
        "colab": {
          "base_uri": "https://localhost:8080/",
          "height": 119
        }
      },
      "source": [
        "import os\n",
        "variable1 = tf.Variable([[5,6,9,3],[14,15,16,18]])\n",
        "checkpoint1 = tf.train.Checkpoint(var=variable1)\n",
        "savepath= checkpoint1.save('/tmp/chkpoiint/')\n",
        "variable1.assign([[0,0,0,0],[0,0,0,0]])\n",
        "print(variable1)\n",
        "checkpoint1.restore(savepath)\n",
        "print(variable1)"
      ],
      "execution_count": 75,
      "outputs": [
        {
          "output_type": "stream",
          "text": [
            "<tf.Variable 'Variable:0' shape=(2, 4) dtype=int32, numpy=\n",
            "array([[0, 0, 0, 0],\n",
            "       [0, 0, 0, 0]], dtype=int32)>\n",
            "<tf.Variable 'Variable:0' shape=(2, 4) dtype=int32, numpy=\n",
            "array([[ 5,  6,  9,  3],\n",
            "       [14, 15, 16, 18]], dtype=int32)>\n"
          ],
          "name": "stdout"
        }
      ]
    },
    {
      "cell_type": "code",
      "metadata": {
        "id": "KIYKkeBfRg5x",
        "colab_type": "code",
        "outputId": "3ceefc5c-6de6-41ca-fa8a-083b72b2a533",
        "colab": {
          "base_uri": "https://localhost:8080/",
          "height": 34
        }
      },
      "source": [
        "print(savepath)"
      ],
      "execution_count": 76,
      "outputs": [
        {
          "output_type": "stream",
          "text": [
            "/tmp/chkpoiint/-1\n"
          ],
          "name": "stdout"
        }
      ]
    },
    {
      "cell_type": "markdown",
      "metadata": {
        "id": "oGmGyi17A7pA",
        "colab_type": "text"
      },
      "source": [
        "## Using tf.function\n",
        "tf.function is a function that will take a Python function and return a TensorFlow graph. \n",
        "\n",
        "The advantage of this is that graphs can apply optimizations and exploit parallelism in the Python function (func). tf.function is new to TensorFlow 2."
      ]
    },
    {
      "cell_type": "markdown",
      "metadata": {
        "id": "GnTJ-meaBozv",
        "colab_type": "text"
      },
      "source": [
        "Its function is as follows:\n",
        "\n",
        "tf.function( func=None,input_signature=None,autograph=True,experimental_autograph_options=None )"
      ]
    },
    {
      "cell_type": "code",
      "metadata": {
        "id": "JzmtixxLBfvb",
        "colab_type": "code",
        "colab": {}
      },
      "source": [
        "def f1(x,y):\n",
        "  return tf.reduce_mean(input_tensor=tf.multiply(x ** 3, 6) + y**3)\n",
        "\n",
        "func = tf.function(f1)\n",
        "x = tf.constant([3.,4.])\n",
        "y = tf.constant([7.,6.])"
      ],
      "execution_count": 0,
      "outputs": []
    },
    {
      "cell_type": "code",
      "metadata": {
        "id": "KXDwvCDyI-KU",
        "colab_type": "code",
        "colab": {
          "base_uri": "https://localhost:8080/",
          "height": 34
        },
        "outputId": "066463fe-45e4-4aba-f064-d205420b91e5"
      },
      "source": [
        "func(x,y).numpy()"
      ],
      "execution_count": 78,
      "outputs": [
        {
          "output_type": "execute_result",
          "data": {
            "text/plain": [
              "552.5"
            ]
          },
          "metadata": {
            "tags": []
          },
          "execution_count": 78
        }
      ]
    },
    {
      "cell_type": "code",
      "metadata": {
        "id": "B7hXiYttJgsr",
        "colab_type": "code",
        "colab": {
          "base_uri": "https://localhost:8080/",
          "height": 34
        },
        "outputId": "fa0a97bf-3569-4988-cc8e-bd4857e31b19"
      },
      "source": [
        "f1(x,y).numpy()"
      ],
      "execution_count": 79,
      "outputs": [
        {
          "output_type": "execute_result",
          "data": {
            "text/plain": [
              "552.5"
            ]
          },
          "metadata": {
            "tags": []
          },
          "execution_count": 79
        }
      ]
    },
    {
      "cell_type": "code",
      "metadata": {
        "id": "1jFv8H06J9fG",
        "colab_type": "code",
        "colab": {}
      },
      "source": [
        "# f1 and f2 return the same value, but f2 executes as a TensorFlow graph\n",
        "assert f1(x,y).numpy() == func(x,y).numpy()\n",
        "#The assert passes, so there is no output"
      ],
      "execution_count": 0,
      "outputs": []
    },
    {
      "cell_type": "markdown",
      "metadata": {
        "id": "O8O789dVNgPZ",
        "colab_type": "text"
      },
      "source": [
        "##Calculate the gradient- differential function\n",
        "\n",
        "Another difference from numpy is that it can automatically track the gradient of any variable.\n",
        "\n",
        "Open one GradientTape and tape.watch() track variables through"
      ]
    },
    {
      "cell_type": "code",
      "metadata": {
        "id": "LRKN8dU_NiSl",
        "colab_type": "code",
        "outputId": "183f5866-19cf-43b3-dfc1-2c974df9b430",
        "colab": {
          "base_uri": "https://localhost:8080/",
          "height": 119
        }
      },
      "source": [
        "a = tf.random.normal(shape=(2,2))\n",
        "b = tf.random.normal(shape=(2,2))\n",
        "print(a)\n",
        "print(b)"
      ],
      "execution_count": 81,
      "outputs": [
        {
          "output_type": "stream",
          "text": [
            "tf.Tensor(\n",
            "[[-0.41427493  0.27209428]\n",
            " [ 0.18780643 -1.0397136 ]], shape=(2, 2), dtype=float32)\n",
            "tf.Tensor(\n",
            "[[-0.10532369  2.5562282 ]\n",
            " [-1.5410595  -1.4889685 ]], shape=(2, 2), dtype=float32)\n"
          ],
          "name": "stdout"
        }
      ]
    },
    {
      "cell_type": "code",
      "metadata": {
        "id": "ZY-dTmipOIPS",
        "colab_type": "code",
        "outputId": "5d29263b-d0ba-4da1-e7a0-f7b286372f87",
        "colab": {
          "base_uri": "https://localhost:8080/",
          "height": 68
        }
      },
      "source": [
        "with tf.GradientTape() as tape:\n",
        "  tape.watch(a)\n",
        "  c= tf.sqrt(tf.square(a) + tf.square(b))\n",
        "  #print(c)\n",
        "  dc_da = tape.gradient(c,a)\n",
        "  print(dc_da)"
      ],
      "execution_count": 83,
      "outputs": [
        {
          "output_type": "stream",
          "text": [
            "tf.Tensor(\n",
            "[[-0.96916884  0.10584572]\n",
            " [ 0.12097336 -0.5725143 ]], shape=(2, 2), dtype=float32)\n"
          ],
          "name": "stdout"
        }
      ]
    },
    {
      "cell_type": "markdown",
      "metadata": {
        "id": "4Hw-0SgtLHqe",
        "colab_type": "text"
      },
      "source": [
        "For all variables, the calculation is tracked by default and used to find the gradient, so do not use tape.watch()"
      ]
    },
    {
      "cell_type": "code",
      "metadata": {
        "id": "Rj4Z2EqaLNTg",
        "colab_type": "code",
        "colab": {
          "base_uri": "https://localhost:8080/",
          "height": 68
        },
        "outputId": "490b8f16-4d6f-4340-8778-c8a749243a04"
      },
      "source": [
        "a = tf.Variable(a)\n",
        "with tf.GradientTape() as tape:\n",
        "  c = tf.sqrt(tf.square(a) + tf.square(b))\n",
        "  dc_da = tape.gradient(c,a)\n",
        "  print(dc_da)"
      ],
      "execution_count": 84,
      "outputs": [
        {
          "output_type": "stream",
          "text": [
            "tf.Tensor(\n",
            "[[-0.96916884  0.10584572]\n",
            " [ 0.12097336 -0.5725143 ]], shape=(2, 2), dtype=float32)\n"
          ],
          "name": "stdout"
        }
      ]
    },
    {
      "cell_type": "markdown",
      "metadata": {
        "id": "PBNcLZSXMCX8",
        "colab_type": "text"
      },
      "source": [
        "You can GradientTapefind higher-order derivatives by opening a few more:"
      ]
    },
    {
      "cell_type": "code",
      "metadata": {
        "id": "GzRN9FBYMDlW",
        "colab_type": "code",
        "colab": {
          "base_uri": "https://localhost:8080/",
          "height": 68
        },
        "outputId": "f145dbcd-c034-44a8-cf4f-3f89d6baa14b"
      },
      "source": [
        "with tf.GradientTape() as outer_tape:\n",
        "    with tf.GradientTape() as tape:\n",
        "        c = tf.sqrt(tf.square(a)+tf.square(b))\n",
        "        dc_da = tape.gradient(c,a)\n",
        "    d2c_d2a = outer_tape.gradient(dc_da,a)\n",
        "    print(d2c_d2a)"
      ],
      "execution_count": 85,
      "outputs": [
        {
          "output_type": "stream",
          "text": [
            "tf.Tensor(\n",
            "[[0.1420312  0.3846457 ]\n",
            " [0.63471186 0.37015942]], shape=(2, 2), dtype=float32)\n"
          ],
          "name": "stdout"
        }
      ]
    },
    {
      "cell_type": "markdown",
      "metadata": {
        "id": "1P2-EBHoNLr9",
        "colab_type": "text"
      },
      "source": [
        "## Keras - High Level API for Tensorflow 2.0"
      ]
    },
    {
      "cell_type": "markdown",
      "metadata": {
        "id": "1-xETXKxTsvN",
        "colab_type": "text"
      },
      "source": [
        "## The Keras Sequential model\n",
        "\n",
        "To build a Keras Sequential model, you add layers to it in the same order that you want the computations to be undertaken by the network.\n",
        "\n",
        "After you have built your model, you compile it; this optimizes the computations that are to be undertaken, and is where you allocate the optimizer and the loss function you want your model to use.\n",
        "\n",
        "The next stage is to fit the model to the data. This is commonly known as training the model, and is where all the computations take place. It is possible to present the data to the model either in batches, or all at once.\n",
        "\n",
        "Next, you evaluate your model to establish its accuracy, loss, and other metrics. Finally, having trained your model, you can use it to make predictions on new data. So, the workflow is: build, compile, fit, evaluate, make predictions.\n",
        "\n"
      ]
    },
    {
      "cell_type": "markdown",
      "metadata": {
        "id": "SEbHyqszT4B0",
        "colab_type": "text"
      },
      "source": [
        "#### There are two ways to create a Sequential model. Let's take a look at each of them."
      ]
    },
    {
      "cell_type": "markdown",
      "metadata": {
        "id": "qxhGY4lzT6DE",
        "colab_type": "text"
      },
      "source": [
        "## Using Sequential model\n",
        "\n",
        "* Firstly, you can pass a list of layer instances to the constructor, as in the following example.For now, we will just explain enough to allow you to understand what Using Sequential model\n",
        "\n",
        "* Pass a list of layer instances to the constructor, as in the following example.For now, we will just explain enough to allow you to understand what is happening here.\n",
        "\n",
        "* Acquire the data. MNIST is a dataset of hand-drawn numerals, each on a 28 x 28 pixel grid. Every individual data point is an unsigned 8-bit integer (uint8), as are the labels:is happening here.\n"
      ]
    },
    {
      "cell_type": "markdown",
      "metadata": {
        "id": "ABhdljw4UWcv",
        "colab_type": "text"
      },
      "source": [
        "## Loading the Dataset "
      ]
    },
    {
      "cell_type": "code",
      "metadata": {
        "id": "_J35bZIfNSAb",
        "colab_type": "code",
        "colab": {}
      },
      "source": [
        "mnist_data = tf.keras.datasets.mnist"
      ],
      "execution_count": 0,
      "outputs": []
    },
    {
      "cell_type": "code",
      "metadata": {
        "id": "yHpT7jSwUkPj",
        "colab_type": "code",
        "colab": {
          "base_uri": "https://localhost:8080/",
          "height": 51
        },
        "outputId": "5b672c96-26ce-4cc3-adad-60c9b714e22c"
      },
      "source": [
        "(X_train,y_train),(X_test,y_test) = mnist_data.load_data()"
      ],
      "execution_count": 87,
      "outputs": [
        {
          "output_type": "stream",
          "text": [
            "Downloading data from https://storage.googleapis.com/tensorflow/tf-keras-datasets/mnist.npz\n",
            "11493376/11490434 [==============================] - 0s 0us/step\n"
          ],
          "name": "stdout"
        }
      ]
    },
    {
      "cell_type": "code",
      "metadata": {
        "id": "rq6vjrnAVUEN",
        "colab_type": "code",
        "colab": {
          "base_uri": "https://localhost:8080/",
          "height": 85
        },
        "outputId": "01fafaee-443f-46df-f3bc-e62b06085d26"
      },
      "source": [
        "print(X_train.shape)\n",
        "print(y_train.shape)\n",
        "print(X_test.shape)\n",
        "print(y_test.shape)"
      ],
      "execution_count": 88,
      "outputs": [
        {
          "output_type": "stream",
          "text": [
            "(60000, 28, 28)\n",
            "(60000,)\n",
            "(10000, 28, 28)\n",
            "(10000,)\n"
          ],
          "name": "stdout"
        }
      ]
    },
    {
      "cell_type": "markdown",
      "metadata": {
        "id": "VxTeLD7VWjvO",
        "colab_type": "text"
      },
      "source": [
        "##Defining Variable"
      ]
    },
    {
      "cell_type": "code",
      "metadata": {
        "id": "w2noMZ4uW8hI",
        "colab_type": "code",
        "colab": {}
      },
      "source": [
        "epochs=10\n",
        "batch_size = 32"
      ],
      "execution_count": 0,
      "outputs": []
    },
    {
      "cell_type": "markdown",
      "metadata": {
        "id": "_ZRZK9EIXah7",
        "colab_type": "text"
      },
      "source": [
        "## Normalize Sample data"
      ]
    },
    {
      "cell_type": "code",
      "metadata": {
        "id": "FoyC3OhZXAy7",
        "colab_type": "code",
        "colab": {}
      },
      "source": [
        "# normalize all the data points and cast the labels to int64\n",
        "X_train, X_test = tf.cast(X_train/255.0, tf.float32), tf.cast(X_test/255.0, tf.float32)\n",
        "y_train, y_test = tf.cast(y_train,tf.int64),tf.cast(y_test,tf.int64)"
      ],
      "execution_count": 0,
      "outputs": []
    },
    {
      "cell_type": "markdown",
      "metadata": {
        "id": "D4sy_nhKXgbC",
        "colab_type": "text"
      },
      "source": [
        "##Building the Architecture"
      ]
    },
    {
      "cell_type": "code",
      "metadata": {
        "id": "4Z72M8dJXhpG",
        "colab_type": "code",
        "colab": {}
      },
      "source": [
        "mnistmodel = tf.keras.models.Sequential([\n",
        "                                         tf.keras.layers.Flatten(),\n",
        "                                         tf.keras.layers.Dense(512,activation=tf.nn.relu),\n",
        "                                         tf.keras.layers.Dropout(0.2),\n",
        "                                         tf.keras.layers.Dense(10,activation=tf.nn.softmax)\n",
        "                                         ])"
      ],
      "execution_count": 0,
      "outputs": []
    },
    {
      "cell_type": "markdown",
      "metadata": {
        "id": "VqzGX1d9Y8az",
        "colab_type": "text"
      },
      "source": [
        "## Compiling the model"
      ]
    },
    {
      "cell_type": "code",
      "metadata": {
        "id": "_H6ylvZWY_F8",
        "colab_type": "code",
        "colab": {}
      },
      "source": [
        "optimiser = tf.keras.optimizers.Adam()\n",
        "mnistmodel.compile (optimizer= optimiser, loss='sparse_categorical_crossentropy', metrics = ['accuracy'])"
      ],
      "execution_count": 0,
      "outputs": []
    },
    {
      "cell_type": "markdown",
      "metadata": {
        "id": "hGItOcDUZGYV",
        "colab_type": "text"
      },
      "source": [
        "##Fitting the model"
      ]
    },
    {
      "cell_type": "code",
      "metadata": {
        "id": "L-idCS2qZHol",
        "colab_type": "code",
        "colab": {
          "base_uri": "https://localhost:8080/",
          "height": 221
        },
        "outputId": "f369eb82-be46-479e-f34c-61022b03c409"
      },
      "source": [
        "mnistmodel.fit(X_train,y_train, batch_size=32, epochs=5)"
      ],
      "execution_count": 94,
      "outputs": [
        {
          "output_type": "stream",
          "text": [
            "Train on 60000 samples\n",
            "Epoch 1/5\n",
            "60000/60000 [==============================] - 6s 93us/sample - loss: 0.2191 - accuracy: 0.9351\n",
            "Epoch 2/5\n",
            "60000/60000 [==============================] - 4s 65us/sample - loss: 0.0968 - accuracy: 0.9706\n",
            "Epoch 3/5\n",
            "60000/60000 [==============================] - 4s 69us/sample - loss: 0.0691 - accuracy: 0.9778\n",
            "Epoch 4/5\n",
            "60000/60000 [==============================] - 4s 65us/sample - loss: 0.0550 - accuracy: 0.9822\n",
            "Epoch 5/5\n",
            "60000/60000 [==============================] - 4s 66us/sample - loss: 0.0416 - accuracy: 0.9867\n"
          ],
          "name": "stdout"
        },
        {
          "output_type": "execute_result",
          "data": {
            "text/plain": [
              "<tensorflow.python.keras.callbacks.History at 0x7f72b5f915f8>"
            ]
          },
          "metadata": {
            "tags": []
          },
          "execution_count": 94
        }
      ]
    },
    {
      "cell_type": "markdown",
      "metadata": {
        "id": "GIN2Be_iaglp",
        "colab_type": "text"
      },
      "source": [
        "##Evaluate the mnist model"
      ]
    },
    {
      "cell_type": "code",
      "metadata": {
        "id": "af_u5XJSak2D",
        "colab_type": "code",
        "colab": {
          "base_uri": "https://localhost:8080/",
          "height": 51
        },
        "outputId": "01b6052f-0c55-40b1-dbdc-f567a01f449d"
      },
      "source": [
        "mnistmodel.evaluate(X_test,y_test)"
      ],
      "execution_count": 95,
      "outputs": [
        {
          "output_type": "stream",
          "text": [
            "10000/10000 [==============================] - 1s 59us/sample - loss: 0.0660 - accuracy: 0.9805\n"
          ],
          "name": "stdout"
        },
        {
          "output_type": "execute_result",
          "data": {
            "text/plain": [
              "[0.06600366251290543, 0.9805]"
            ]
          },
          "metadata": {
            "tags": []
          },
          "execution_count": 95
        }
      ]
    },
    {
      "cell_type": "markdown",
      "metadata": {
        "id": "vneGR89ydb3T",
        "colab_type": "text"
      },
      "source": [
        "##The second way to create a Sequential model\n",
        "\n",
        "The alternative to passing a list of layers to the Sequential model's constructor is to use the add method, as follows, for the same architecture:"
      ]
    },
    {
      "cell_type": "markdown",
      "metadata": {
        "id": "DCAUSb9WeS2O",
        "colab_type": "text"
      },
      "source": [
        "## Building the Architecture & Compiling"
      ]
    },
    {
      "cell_type": "code",
      "metadata": {
        "id": "t84ZFrpzeVmu",
        "colab_type": "code",
        "colab": {}
      },
      "source": [
        "mnistmodel1 = tf.keras.Sequential()\n",
        "mnistmodel1.add(tf.keras.layers.Flatten())\n",
        "mnistmodel1.add(tf.keras.layers.Dense(512,activation=('relu')))\n",
        "mnistmodel1.add(tf.keras.layers.Dropout(0.2))\n",
        "mnistmodel1.add(tf.keras.layers.Dense(10,activation=tf.nn.softmax)) # Output Layer\n",
        "mnistmodel1.compile(optimizer=tf.keras.optimizers.Adam(),loss='sparse_categorical_crossentropy',metrics=['accuracy'])"
      ],
      "execution_count": 0,
      "outputs": []
    },
    {
      "cell_type": "markdown",
      "metadata": {
        "id": "3LdhAMnOgL8_",
        "colab_type": "text"
      },
      "source": [
        "## Fitting The Model"
      ]
    },
    {
      "cell_type": "code",
      "metadata": {
        "id": "1xR54VNXgO0f",
        "colab_type": "code",
        "colab": {
          "base_uri": "https://localhost:8080/",
          "height": 221
        },
        "outputId": "cd65c137-4f58-491f-858f-468093aa9239"
      },
      "source": [
        "mnistmodel1.fit(X_train,y_train,batch_size=32,epochs=5)"
      ],
      "execution_count": 100,
      "outputs": [
        {
          "output_type": "stream",
          "text": [
            "Train on 60000 samples\n",
            "Epoch 1/5\n",
            "60000/60000 [==============================] - 4s 67us/sample - loss: 0.2176 - accuracy: 0.9361\n",
            "Epoch 2/5\n",
            "60000/60000 [==============================] - 4s 62us/sample - loss: 0.0970 - accuracy: 0.9706\n",
            "Epoch 3/5\n",
            "60000/60000 [==============================] - 4s 63us/sample - loss: 0.0694 - accuracy: 0.9779\n",
            "Epoch 4/5\n",
            "60000/60000 [==============================] - 4s 61us/sample - loss: 0.0530 - accuracy: 0.9825\n",
            "Epoch 5/5\n",
            "60000/60000 [==============================] - 4s 62us/sample - loss: 0.0416 - accuracy: 0.9866\n"
          ],
          "name": "stdout"
        },
        {
          "output_type": "execute_result",
          "data": {
            "text/plain": [
              "<tensorflow.python.keras.callbacks.History at 0x7f72b4160e80>"
            ]
          },
          "metadata": {
            "tags": []
          },
          "execution_count": 100
        }
      ]
    },
    {
      "cell_type": "markdown",
      "metadata": {
        "id": "hJPzFnUtgwsh",
        "colab_type": "text"
      },
      "source": [
        "##Evaluate mnistmodel1"
      ]
    },
    {
      "cell_type": "code",
      "metadata": {
        "id": "xrXoEhVng0jL",
        "colab_type": "code",
        "colab": {
          "base_uri": "https://localhost:8080/",
          "height": 51
        },
        "outputId": "8cfa995b-9195-4a45-caf2-9c4d9108f5aa"
      },
      "source": [
        "mnistmodel1.evaluate(X_test, y_test)"
      ],
      "execution_count": 101,
      "outputs": [
        {
          "output_type": "stream",
          "text": [
            "10000/10000 [==============================] - 1s 58us/sample - loss: 0.0610 - accuracy: 0.9826\n"
          ],
          "name": "stdout"
        },
        {
          "output_type": "execute_result",
          "data": {
            "text/plain": [
              "[0.06102552511789254, 0.9826]"
            ]
          },
          "metadata": {
            "tags": []
          },
          "execution_count": 101
        }
      ]
    },
    {
      "cell_type": "markdown",
      "metadata": {
        "id": "DCO5oHBYigCB",
        "colab_type": "text"
      },
      "source": [
        "## Keras functional API"
      ]
    },
    {
      "cell_type": "code",
      "metadata": {
        "id": "_0oxuBc_ih6a",
        "colab_type": "code",
        "colab": {}
      },
      "source": [
        "The functional API lets you build much more complex architectures than the simple linear stack of Sequential models we have seen previously. \n",
        "\n",
        "It also supports more advanced models. \n",
        "\n",
        "These models include multi-input and multi-output models, models with shared layers, and models with residual connections."
      ],
      "execution_count": 0,
      "outputs": []
    },
    {
      "cell_type": "code",
      "metadata": {
        "id": "Uet6iW4gi82J",
        "colab_type": "code",
        "colab": {
          "base_uri": "https://localhost:8080/",
          "height": 51
        },
        "outputId": "d6910d35-6126-4342-8a25-31d3ace67f92"
      },
      "source": [
        "import tensorflow as tf\n",
        "mnist = tf.keras.datasets.mnist\n",
        "(train_x,train_y), (test_x, test_y) = mnist.load_data()\n",
        "train_x, test_x = train_x/255.0, test_x/255.0\n",
        "epochs=10"
      ],
      "execution_count": 7,
      "outputs": [
        {
          "output_type": "stream",
          "text": [
            "Downloading data from https://storage.googleapis.com/tensorflow/tf-keras-datasets/mnist.npz\n",
            "11493376/11490434 [==============================] - 0s 0us/step\n"
          ],
          "name": "stdout"
        }
      ]
    },
    {
      "cell_type": "markdown",
      "metadata": {
        "id": "X0jCaPdqjGnf",
        "colab_type": "text"
      },
      "source": [
        "## Building the Architecture"
      ]
    },
    {
      "cell_type": "code",
      "metadata": {
        "id": "dtPhFms7jIBT",
        "colab_type": "code",
        "colab": {}
      },
      "source": [
        "inputs = tf.keras.Input(shape=(28,28)) # Returns a 'placeholder' tensor\n",
        "x = tf.keras.layers.Flatten()(inputs)\n",
        "x = tf.keras.layers.Dense(512, activation='relu',name='d1')(x)\n",
        "x = tf.keras.layers.Dropout(0.2)(x)\n",
        "predictions = tf.keras.layers.Dense(10,activation=tf.nn.softmax, name='d2')(x)\n",
        "mnistmodel2 = tf.keras.Model(inputs=inputs, outputs=predictions)"
      ],
      "execution_count": 0,
      "outputs": []
    },
    {
      "cell_type": "markdown",
      "metadata": {
        "id": "KI1G2r1qjPz9",
        "colab_type": "text"
      },
      "source": [
        "##Compile and Fit"
      ]
    },
    {
      "cell_type": "code",
      "metadata": {
        "id": "ikptCbtKjSOE",
        "colab_type": "code",
        "colab": {
          "base_uri": "https://localhost:8080/",
          "height": 391
        },
        "outputId": "3f91205e-f5f3-47ac-8d16-974ce2d00906"
      },
      "source": [
        "optimiser = tf.keras.optimizers.Adam()\n",
        "mnistmodel2.compile (optimizer= optimiser, loss='sparse_categorical_crossentropy', metrics = ['accuracy'])\n",
        "mnistmodel2.fit(train_x, train_y, batch_size=32, epochs=epochs)"
      ],
      "execution_count": 107,
      "outputs": [
        {
          "output_type": "stream",
          "text": [
            "Train on 60000 samples\n",
            "Epoch 1/10\n",
            "60000/60000 [==============================] - 4s 73us/sample - loss: 0.2184 - accuracy: 0.9358\n",
            "Epoch 2/10\n",
            "60000/60000 [==============================] - 4s 65us/sample - loss: 0.0978 - accuracy: 0.9706\n",
            "Epoch 3/10\n",
            "60000/60000 [==============================] - 4s 64us/sample - loss: 0.0697 - accuracy: 0.9779\n",
            "Epoch 4/10\n",
            "60000/60000 [==============================] - 4s 63us/sample - loss: 0.0550 - accuracy: 0.9824\n",
            "Epoch 5/10\n",
            "60000/60000 [==============================] - 4s 67us/sample - loss: 0.0420 - accuracy: 0.9867\n",
            "Epoch 6/10\n",
            "60000/60000 [==============================] - 4s 65us/sample - loss: 0.0352 - accuracy: 0.9879\n",
            "Epoch 7/10\n",
            "60000/60000 [==============================] - 4s 67us/sample - loss: 0.0319 - accuracy: 0.9892\n",
            "Epoch 8/10\n",
            "60000/60000 [==============================] - 4s 67us/sample - loss: 0.0267 - accuracy: 0.9910\n",
            "Epoch 9/10\n",
            "60000/60000 [==============================] - 4s 63us/sample - loss: 0.0249 - accuracy: 0.9916\n",
            "Epoch 10/10\n",
            "60000/60000 [==============================] - 4s 64us/sample - loss: 0.0217 - accuracy: 0.9924\n"
          ],
          "name": "stdout"
        },
        {
          "output_type": "execute_result",
          "data": {
            "text/plain": [
              "<tensorflow.python.keras.callbacks.History at 0x7f72b5f5ffd0>"
            ]
          },
          "metadata": {
            "tags": []
          },
          "execution_count": 107
        }
      ]
    },
    {
      "cell_type": "markdown",
      "metadata": {
        "id": "7568YkUejxkL",
        "colab_type": "text"
      },
      "source": [
        "## Evaluate the mnistmodel3"
      ]
    },
    {
      "cell_type": "code",
      "metadata": {
        "id": "-4LaA8NZjy5R",
        "colab_type": "code",
        "colab": {
          "base_uri": "https://localhost:8080/",
          "height": 51
        },
        "outputId": "b28b4bff-68da-4108-c811-ace78a31d808"
      },
      "source": [
        "mnistmodel2.evaluate(test_x, test_y)"
      ],
      "execution_count": 108,
      "outputs": [
        {
          "output_type": "stream",
          "text": [
            "10000/10000 [==============================] - 1s 61us/sample - loss: 0.0762 - accuracy: 0.9814\n"
          ],
          "name": "stdout"
        },
        {
          "output_type": "execute_result",
          "data": {
            "text/plain": [
              "[0.07621001853927555, 0.9814]"
            ]
          },
          "metadata": {
            "tags": []
          },
          "execution_count": 108
        }
      ]
    },
    {
      "cell_type": "markdown",
      "metadata": {
        "id": "_Kmt6yudydLY",
        "colab_type": "text"
      },
      "source": [
        "## Subclassing the Keras Model class"
      ]
    },
    {
      "cell_type": "code",
      "metadata": {
        "id": "m952gZDl0Wh5",
        "colab_type": "code",
        "colab": {
          "base_uri": "https://localhost:8080/",
          "height": 63
        },
        "outputId": "9ed2f0ee-d042-4955-d66f-f9f3f4f4aa8d"
      },
      "source": [
        "import tensorflow as tf"
      ],
      "execution_count": 2,
      "outputs": [
        {
          "output_type": "display_data",
          "data": {
            "text/html": [
              "<p style=\"color: red;\">\n",
              "The default version of TensorFlow in Colab will soon switch to TensorFlow 2.x.<br>\n",
              "We recommend you <a href=\"https://www.tensorflow.org/guide/migrate\" target=\"_blank\">upgrade</a> now \n",
              "or ensure your notebook will continue to use TensorFlow 1.x via the <code>%tensorflow_version 1.x</code> magic:\n",
              "<a href=\"https://colab.research.google.com/notebooks/tensorflow_version.ipynb\" target=\"_blank\">more info</a>.</p>\n"
            ],
            "text/plain": [
              "<IPython.core.display.HTML object>"
            ]
          },
          "metadata": {
            "tags": []
          }
        }
      ]
    },
    {
      "cell_type": "code",
      "metadata": {
        "id": "40xY2DM-ynGF",
        "colab_type": "code",
        "colab": {}
      },
      "source": [
        "class MNISTModel(tf.keras.Model):\n",
        "    def __init__(self, num_classes=10):\n",
        "        super(MNISTModel, self).__init__()\n",
        "        # Define your layers here.\n",
        "        inputs = tf.keras.Input(shape=(28,28)) # Returns a placeholder tensor\n",
        "        self.x0 = tf.keras.layers.Flatten()\n",
        "        self.x1 = tf.keras.layers.Dense(512, activation='relu',name='d1')\n",
        "        self.x2 = tf.keras.layers.Dropout(0.2)\n",
        "        self.predictions = tf.keras.layers.Dense(10,activation=tf.nn.softmax, name='d2')\n",
        "\n",
        "\n",
        "    def call(self, inputs):\n",
        "    # This is where to define your forward pass\n",
        "    # using the layers previously defined in `__init__`\n",
        "        x = self.x0(inputs)\n",
        "        x = self.x1(x)\n",
        "        x = self.x2(x)\n",
        "        return self.predictions(x)"
      ],
      "execution_count": 0,
      "outputs": []
    },
    {
      "cell_type": "code",
      "metadata": {
        "id": "K8RKvyPP0czG",
        "colab_type": "code",
        "colab": {}
      },
      "source": [
        "mnistmodel4 = MNISTModel()"
      ],
      "execution_count": 0,
      "outputs": []
    },
    {
      "cell_type": "markdown",
      "metadata": {
        "id": "WkcNywGO08_q",
        "colab_type": "text"
      },
      "source": [
        "##Compile & Fit"
      ]
    },
    {
      "cell_type": "code",
      "metadata": {
        "id": "a4xNO8Jj0-UK",
        "colab_type": "code",
        "colab": {
          "base_uri": "https://localhost:8080/",
          "height": 479
        },
        "outputId": "f5afeab7-1ad6-49cc-ce77-1ca225accfbb"
      },
      "source": [
        "import numpy as np\n",
        "batch_size = 32\n",
        "steps_per_epoch = len(train_x//batch_size)\n",
        "print(steps_per_epoch)\n",
        "mnistmodel4.compile (optimizer= tf.keras.optimizers.Adam(), loss='sparse_categorical_crossentropy',metrics = ['accuracy'])\n",
        "mnistmodel4.fit(train_x, train_y, batch_size=batch_size, epochs=epochs)"
      ],
      "execution_count": 13,
      "outputs": [
        {
          "output_type": "stream",
          "text": [
            "60000\n",
            "WARNING:tensorflow:From /usr/local/lib/python3.6/dist-packages/tensorflow_core/python/ops/resource_variable_ops.py:1630: calling BaseResourceVariable.__init__ (from tensorflow.python.ops.resource_variable_ops) with constraint is deprecated and will be removed in a future version.\n",
            "Instructions for updating:\n",
            "If using Keras pass *_constraint arguments to layers.\n",
            "Train on 60000 samples\n",
            "Epoch 1/10\n",
            "60000/60000 [==============================] - 5s 87us/sample - loss: 0.2216 - acc: 0.9339\n",
            "Epoch 2/10\n",
            "60000/60000 [==============================] - 4s 62us/sample - loss: 0.0956 - acc: 0.9714\n",
            "Epoch 3/10\n",
            "60000/60000 [==============================] - 4s 64us/sample - loss: 0.0675 - acc: 0.9788\n",
            "Epoch 4/10\n",
            "60000/60000 [==============================] - 4s 64us/sample - loss: 0.0528 - acc: 0.9833\n",
            "Epoch 5/10\n",
            "60000/60000 [==============================] - 4s 63us/sample - loss: 0.0433 - acc: 0.9854\n",
            "Epoch 6/10\n",
            "60000/60000 [==============================] - 4s 60us/sample - loss: 0.0354 - acc: 0.9883\n",
            "Epoch 7/10\n",
            "60000/60000 [==============================] - 4s 61us/sample - loss: 0.0314 - acc: 0.9894\n",
            "Epoch 8/10\n",
            "60000/60000 [==============================] - 4s 59us/sample - loss: 0.0253 - acc: 0.9913\n",
            "Epoch 9/10\n",
            "60000/60000 [==============================] - 4s 60us/sample - loss: 0.0237 - acc: 0.9919\n",
            "Epoch 10/10\n",
            "60000/60000 [==============================] - 4s 61us/sample - loss: 0.0210 - acc: 0.9930\n"
          ],
          "name": "stdout"
        },
        {
          "output_type": "execute_result",
          "data": {
            "text/plain": [
              "<tensorflow.python.keras.callbacks.History at 0x7f0a48ce5e10>"
            ]
          },
          "metadata": {
            "tags": []
          },
          "execution_count": 13
        }
      ]
    },
    {
      "cell_type": "markdown",
      "metadata": {
        "id": "q9B3QKTi2NUp",
        "colab_type": "text"
      },
      "source": [
        "##Evaluate the mnistmodel4"
      ]
    },
    {
      "cell_type": "code",
      "metadata": {
        "id": "JCT3G0HA2RjT",
        "colab_type": "code",
        "colab": {
          "base_uri": "https://localhost:8080/",
          "height": 51
        },
        "outputId": "b0b146fd-a6fc-4515-f8de-7ef5bfd40b15"
      },
      "source": [
        "mnistmodel4.evaluate(test_x, test_y)"
      ],
      "execution_count": 14,
      "outputs": [
        {
          "output_type": "stream",
          "text": [
            "10000/10000 [==============================] - 0s 45us/sample - loss: 0.0689 - acc: 0.9827\n"
          ],
          "name": "stdout"
        },
        {
          "output_type": "execute_result",
          "data": {
            "text/plain": [
              "[0.06885584587669163, 0.9827]"
            ]
          },
          "metadata": {
            "tags": []
          },
          "execution_count": 14
        }
      ]
    }
  ]
}